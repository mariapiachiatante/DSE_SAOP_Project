{
  "nbformat": 4,
  "nbformat_minor": 0,
  "metadata": {
    "colab": {
      "name": "SAOP_Project_DSE_MP_Chiatante .ipynb",
      "provenance": [],
      "authorship_tag": "ABX9TyOSCG2VlJQaH2JmlhmCDhIH",
      "include_colab_link": true
    },
    "kernelspec": {
      "name": "python3",
      "display_name": "Python 3"
    },
    "language_info": {
      "name": "python"
    }
  },
  "cells": [
    {
      "cell_type": "markdown",
      "metadata": {
        "id": "view-in-github",
        "colab_type": "text"
      },
      "source": [
        "<a href=\"https://colab.research.google.com/github/mariapiachiatante/DSE_SAOP_Project/blob/main/SAOP_Project_DSE_MP_Chiatante_.ipynb\" target=\"_parent\"><img src=\"https://colab.research.google.com/assets/colab-badge.svg\" alt=\"Open In Colab\"/></a>"
      ]
    },
    {
      "cell_type": "markdown",
      "metadata": {
        "id": "YRkzBV-qaGvr"
      },
      "source": [
        "#Sentiment Analysis and Opinion Mining Project: Public opinion on news"
      ]
    },
    {
      "cell_type": "code",
      "metadata": {
        "colab": {
          "resources": {
            "http://localhost:8080/nbextensions/google.colab/files.js": {
              "data": "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",
              "ok": true,
              "headers": [
                [
                  "content-type",
                  "application/javascript"
                ]
              ],
              "status": 200,
              "status_text": ""
            }
          },
          "base_uri": "https://localhost:8080/",
          "height": 91
        },
        "id": "BrWCqThys93U",
        "outputId": "51cb95c6-47e5-4a3b-ff79-a2a8d4d7003f"
      },
      "source": [
        "from google.colab import files\n",
        "files.upload() #uploading the json file with my personal Kaggle API tokens"
      ],
      "execution_count": null,
      "outputs": [
        {
          "output_type": "display_data",
          "data": {
            "text/html": [
              "\n",
              "     <input type=\"file\" id=\"files-74879a3a-34fa-44fc-bbcc-21d972b111c2\" name=\"files[]\" multiple disabled\n",
              "        style=\"border:none\" />\n",
              "     <output id=\"result-74879a3a-34fa-44fc-bbcc-21d972b111c2\">\n",
              "      Upload widget is only available when the cell has been executed in the\n",
              "      current browser session. Please rerun this cell to enable.\n",
              "      </output>\n",
              "      <script src=\"/nbextensions/google.colab/files.js\"></script> "
            ],
            "text/plain": [
              "<IPython.core.display.HTML object>"
            ]
          },
          "metadata": {}
        },
        {
          "output_type": "stream",
          "name": "stdout",
          "text": [
            "Saving kaggle.json to kaggle (1).json\n"
          ]
        },
        {
          "output_type": "execute_result",
          "data": {
            "text/plain": [
              "{'kaggle.json': b'{\"username\":\"maryperry21\",\"key\":\"38a8106ef3fb5404644665cfa2f28268\"}'}"
            ]
          },
          "metadata": {},
          "execution_count": 1
        }
      ]
    },
    {
      "cell_type": "code",
      "metadata": {
        "colab": {
          "base_uri": "https://localhost:8080/"
        },
        "id": "NODOiIdUaa2o",
        "outputId": "a4d3512d-c53b-4217-9404-6302cc5d1e5a"
      },
      "source": [
        "#Download the dataset\n",
        "!pip install -q kaggle\n",
        "!mkdir -p ~/.kaggle\n",
        "!cp kaggle.json ~/.kaggle/\n",
        "!ls ~/.kaggle\n",
        "!chmod 600 /root/.kaggle/kaggle.json\n",
        "!kaggle datasets download -d aashita/nyt-comments"
      ],
      "execution_count": null,
      "outputs": [
        {
          "output_type": "stream",
          "name": "stdout",
          "text": [
            "kaggle.json\n",
            "nyt-comments.zip: Skipping, found more recently modified local copy (use --force to force download)\n"
          ]
        }
      ]
    },
    {
      "cell_type": "code",
      "metadata": {
        "colab": {
          "base_uri": "https://localhost:8080/"
        },
        "id": "EX8A-zX2au-b",
        "outputId": "c58f9614-298d-442d-e570-da7b6e597ccb"
      },
      "source": [
        "#Unzip the files\n",
        "!unzip /content/nyt-comments.zip"
      ],
      "execution_count": null,
      "outputs": [
        {
          "output_type": "stream",
          "name": "stdout",
          "text": [
            "Archive:  /content/nyt-comments.zip\n",
            "replace ArticlesApril2017.csv? [y]es, [n]o, [A]ll, [N]one, [r]ename: N\n"
          ]
        }
      ]
    },
    {
      "cell_type": "code",
      "metadata": {
        "id": "8b-JBjr7bAww"
      },
      "source": [
        "import glob\n",
        "articles = glob.glob('/content/Articles*.csv') #import all the csv files that represent articles"
      ],
      "execution_count": null,
      "outputs": []
    },
    {
      "cell_type": "code",
      "metadata": {
        "id": "xq3Zf7AhbRug"
      },
      "source": [
        "import pandas as pd\n",
        "articles_list = []\n",
        "\n",
        "for article in articles:\n",
        "    df = pd.read_csv(article, index_col=None, header=0)\n",
        "    articles_list.append(df)\n",
        "\n",
        "articles = pd.concat(articles_list, axis=0, ignore_index=True) #store all the articles in one unique dataframe"
      ],
      "execution_count": null,
      "outputs": []
    },
    {
      "cell_type": "code",
      "metadata": {
        "colab": {
          "base_uri": "https://localhost:8080/"
        },
        "id": "rjSZxDEyb87i",
        "outputId": "f09d3f13-177b-4fe4-babe-a3dc90c69564"
      },
      "source": [
        "type(articles)"
      ],
      "execution_count": null,
      "outputs": [
        {
          "output_type": "execute_result",
          "data": {
            "text/plain": [
              "pandas.core.frame.DataFrame"
            ]
          },
          "metadata": {},
          "execution_count": 6
        }
      ]
    },
    {
      "cell_type": "markdown",
      "metadata": {
        "id": "aMmfKX4EXaLl"
      },
      "source": [
        "##Exploratory Analysis"
      ]
    },
    {
      "cell_type": "code",
      "metadata": {
        "colab": {
          "base_uri": "https://localhost:8080/"
        },
        "id": "-gr4tmpfb_44",
        "outputId": "11aabb6c-6447-42e4-c42a-fb6d9f2f0c78"
      },
      "source": [
        "articles.shape"
      ],
      "execution_count": null,
      "outputs": [
        {
          "output_type": "execute_result",
          "data": {
            "text/plain": [
              "(9335, 16)"
            ]
          },
          "metadata": {},
          "execution_count": 6
        }
      ]
    },
    {
      "cell_type": "code",
      "metadata": {
        "colab": {
          "base_uri": "https://localhost:8080/"
        },
        "id": "Qq32NE46cMA4",
        "outputId": "19fc436d-5a62-41e6-ca1f-00c246b82ddf"
      },
      "source": [
        "articles.info()"
      ],
      "execution_count": null,
      "outputs": [
        {
          "output_type": "stream",
          "name": "stdout",
          "text": [
            "<class 'pandas.core.frame.DataFrame'>\n",
            "RangeIndex: 9335 entries, 0 to 9334\n",
            "Data columns (total 16 columns):\n",
            " #   Column            Non-Null Count  Dtype \n",
            "---  ------            --------------  ----- \n",
            " 0   articleID         9335 non-null   object\n",
            " 1   byline            9335 non-null   object\n",
            " 2   documentType      9335 non-null   object\n",
            " 3   headline          9335 non-null   object\n",
            " 4   keywords          9335 non-null   object\n",
            " 5   multimedia        9335 non-null   int64 \n",
            " 6   newDesk           9335 non-null   object\n",
            " 7   printPage         9335 non-null   int64 \n",
            " 8   pubDate           9335 non-null   object\n",
            " 9   sectionName       9335 non-null   object\n",
            " 10  snippet           9335 non-null   object\n",
            " 11  source            9335 non-null   object\n",
            " 12  typeOfMaterial    9335 non-null   object\n",
            " 13  webURL            9335 non-null   object\n",
            " 14  articleWordCount  9335 non-null   int64 \n",
            " 15  abstract          167 non-null    object\n",
            "dtypes: int64(3), object(13)\n",
            "memory usage: 1.1+ MB\n"
          ]
        }
      ]
    },
    {
      "cell_type": "code",
      "metadata": {
        "colab": {
          "base_uri": "https://localhost:8080/",
          "height": 642
        },
        "id": "JxdxB0J_cCXr",
        "outputId": "f079857d-abe9-4324-c2e1-f29909c544bd"
      },
      "source": [
        "articles.head()"
      ],
      "execution_count": null,
      "outputs": [
        {
          "output_type": "execute_result",
          "data": {
            "text/html": [
              "<div>\n",
              "<style scoped>\n",
              "    .dataframe tbody tr th:only-of-type {\n",
              "        vertical-align: middle;\n",
              "    }\n",
              "\n",
              "    .dataframe tbody tr th {\n",
              "        vertical-align: top;\n",
              "    }\n",
              "\n",
              "    .dataframe thead th {\n",
              "        text-align: right;\n",
              "    }\n",
              "</style>\n",
              "<table border=\"1\" class=\"dataframe\">\n",
              "  <thead>\n",
              "    <tr style=\"text-align: right;\">\n",
              "      <th></th>\n",
              "      <th>articleID</th>\n",
              "      <th>byline</th>\n",
              "      <th>documentType</th>\n",
              "      <th>headline</th>\n",
              "      <th>keywords</th>\n",
              "      <th>multimedia</th>\n",
              "      <th>newDesk</th>\n",
              "      <th>printPage</th>\n",
              "      <th>pubDate</th>\n",
              "      <th>sectionName</th>\n",
              "      <th>snippet</th>\n",
              "      <th>source</th>\n",
              "      <th>typeOfMaterial</th>\n",
              "      <th>webURL</th>\n",
              "      <th>articleWordCount</th>\n",
              "      <th>abstract</th>\n",
              "    </tr>\n",
              "  </thead>\n",
              "  <tbody>\n",
              "    <tr>\n",
              "      <th>0</th>\n",
              "      <td>5a974697410cf7000162e8a4</td>\n",
              "      <td>By BINYAMIN APPELBAUM</td>\n",
              "      <td>article</td>\n",
              "      <td>Virtual Coins, Real Resources</td>\n",
              "      <td>['Bitcoin (Currency)', 'Electric Light and Pow...</td>\n",
              "      <td>1</td>\n",
              "      <td>Business</td>\n",
              "      <td>1</td>\n",
              "      <td>2018-03-01 00:17:22</td>\n",
              "      <td>Economy</td>\n",
              "      <td>America has a productivity problem. One explan...</td>\n",
              "      <td>The New York Times</td>\n",
              "      <td>News</td>\n",
              "      <td>https://www.nytimes.com/2018/02/28/business/ec...</td>\n",
              "      <td>1207</td>\n",
              "      <td>NaN</td>\n",
              "    </tr>\n",
              "    <tr>\n",
              "      <th>1</th>\n",
              "      <td>5a974be7410cf7000162e8af</td>\n",
              "      <td>By HELENE COOPER and ERIC SCHMITT</td>\n",
              "      <td>article</td>\n",
              "      <td>U.S. Advances Military Plans for North Korea</td>\n",
              "      <td>['United States Defense and Military Forces', ...</td>\n",
              "      <td>1</td>\n",
              "      <td>Washington</td>\n",
              "      <td>11</td>\n",
              "      <td>2018-03-01 00:40:01</td>\n",
              "      <td>Asia Pacific</td>\n",
              "      <td>The American military is looking at everything...</td>\n",
              "      <td>The New York Times</td>\n",
              "      <td>News</td>\n",
              "      <td>https://www.nytimes.com/2018/02/28/world/asia/...</td>\n",
              "      <td>1215</td>\n",
              "      <td>NaN</td>\n",
              "    </tr>\n",
              "    <tr>\n",
              "      <th>2</th>\n",
              "      <td>5a9752a2410cf7000162e8ba</td>\n",
              "      <td>By THE EDITORIAL BOARD</td>\n",
              "      <td>article</td>\n",
              "      <td>Mr. Trump and the ‘Very Bad Judge’</td>\n",
              "      <td>['Trump, Donald J', 'Curiel, Gonzalo P', 'Unit...</td>\n",
              "      <td>1</td>\n",
              "      <td>Editorial</td>\n",
              "      <td>26</td>\n",
              "      <td>2018-03-01 01:08:46</td>\n",
              "      <td>Unknown</td>\n",
              "      <td>Can you guess which man is the model public se...</td>\n",
              "      <td>The New York Times</td>\n",
              "      <td>Editorial</td>\n",
              "      <td>https://www.nytimes.com/2018/02/28/opinion/tru...</td>\n",
              "      <td>1043</td>\n",
              "      <td>NaN</td>\n",
              "    </tr>\n",
              "    <tr>\n",
              "      <th>3</th>\n",
              "      <td>5a975310410cf7000162e8bd</td>\n",
              "      <td>By JAVIER C. HERNÁNDEZ</td>\n",
              "      <td>article</td>\n",
              "      <td>To Erase Dissent, China Bans Pooh Bear and ‘N’</td>\n",
              "      <td>['China', 'Xi Jinping', 'Term Limits (Politica...</td>\n",
              "      <td>1</td>\n",
              "      <td>Foreign</td>\n",
              "      <td>1</td>\n",
              "      <td>2018-03-01 01:10:35</td>\n",
              "      <td>Asia Pacific</td>\n",
              "      <td>Censors swung into action after Mr. Xi’s bid t...</td>\n",
              "      <td>The New York Times</td>\n",
              "      <td>News</td>\n",
              "      <td>https://www.nytimes.com/2018/02/28/world/asia/...</td>\n",
              "      <td>1315</td>\n",
              "      <td>NaN</td>\n",
              "    </tr>\n",
              "    <tr>\n",
              "      <th>4</th>\n",
              "      <td>5a975406410cf7000162e8c3</td>\n",
              "      <td>By JESSE DRUCKER, KATE KELLY and BEN PROTESS</td>\n",
              "      <td>article</td>\n",
              "      <td>Loans Flowed to Kushner Cos. After Visits to t...</td>\n",
              "      <td>['Kushner, Jared', 'Kushner Cos', 'United Stat...</td>\n",
              "      <td>1</td>\n",
              "      <td>Business</td>\n",
              "      <td>1</td>\n",
              "      <td>2018-03-01 01:14:41</td>\n",
              "      <td>Unknown</td>\n",
              "      <td>Apollo, the private equity firm, and Citigroup...</td>\n",
              "      <td>The New York Times</td>\n",
              "      <td>News</td>\n",
              "      <td>https://www.nytimes.com/2018/02/28/business/ja...</td>\n",
              "      <td>1566</td>\n",
              "      <td>NaN</td>\n",
              "    </tr>\n",
              "  </tbody>\n",
              "</table>\n",
              "</div>"
            ],
            "text/plain": [
              "                  articleID  ... abstract\n",
              "0  5a974697410cf7000162e8a4  ...      NaN\n",
              "1  5a974be7410cf7000162e8af  ...      NaN\n",
              "2  5a9752a2410cf7000162e8ba  ...      NaN\n",
              "3  5a975310410cf7000162e8bd  ...      NaN\n",
              "4  5a975406410cf7000162e8c3  ...      NaN\n",
              "\n",
              "[5 rows x 16 columns]"
            ]
          },
          "metadata": {},
          "execution_count": 9
        }
      ]
    },
    {
      "cell_type": "code",
      "metadata": {
        "colab": {
          "base_uri": "https://localhost:8080/",
          "height": 300
        },
        "id": "KAREq75wPCwj",
        "outputId": "46f63fa9-cf05-490f-ffb4-b66286d91379"
      },
      "source": [
        "#Summary statistics of the numerical variables \n",
        "articles.describe() "
      ],
      "execution_count": null,
      "outputs": [
        {
          "output_type": "execute_result",
          "data": {
            "text/html": [
              "<div>\n",
              "<style scoped>\n",
              "    .dataframe tbody tr th:only-of-type {\n",
              "        vertical-align: middle;\n",
              "    }\n",
              "\n",
              "    .dataframe tbody tr th {\n",
              "        vertical-align: top;\n",
              "    }\n",
              "\n",
              "    .dataframe thead th {\n",
              "        text-align: right;\n",
              "    }\n",
              "</style>\n",
              "<table border=\"1\" class=\"dataframe\">\n",
              "  <thead>\n",
              "    <tr style=\"text-align: right;\">\n",
              "      <th></th>\n",
              "      <th>multimedia</th>\n",
              "      <th>printPage</th>\n",
              "      <th>articleWordCount</th>\n",
              "    </tr>\n",
              "  </thead>\n",
              "  <tbody>\n",
              "    <tr>\n",
              "      <th>count</th>\n",
              "      <td>9335.000000</td>\n",
              "      <td>9335.000000</td>\n",
              "      <td>9335.000000</td>\n",
              "    </tr>\n",
              "    <tr>\n",
              "      <th>mean</th>\n",
              "      <td>25.257633</td>\n",
              "      <td>6.855597</td>\n",
              "      <td>1103.619711</td>\n",
              "    </tr>\n",
              "    <tr>\n",
              "      <th>std</th>\n",
              "      <td>31.293703</td>\n",
              "      <td>10.370867</td>\n",
              "      <td>831.760871</td>\n",
              "    </tr>\n",
              "    <tr>\n",
              "      <th>min</th>\n",
              "      <td>0.000000</td>\n",
              "      <td>0.000000</td>\n",
              "      <td>11.000000</td>\n",
              "    </tr>\n",
              "    <tr>\n",
              "      <th>25%</th>\n",
              "      <td>1.000000</td>\n",
              "      <td>0.000000</td>\n",
              "      <td>725.000000</td>\n",
              "    </tr>\n",
              "    <tr>\n",
              "      <th>50%</th>\n",
              "      <td>3.000000</td>\n",
              "      <td>1.000000</td>\n",
              "      <td>1000.000000</td>\n",
              "    </tr>\n",
              "    <tr>\n",
              "      <th>75%</th>\n",
              "      <td>67.000000</td>\n",
              "      <td>11.000000</td>\n",
              "      <td>1316.500000</td>\n",
              "    </tr>\n",
              "    <tr>\n",
              "      <th>max</th>\n",
              "      <td>68.000000</td>\n",
              "      <td>198.000000</td>\n",
              "      <td>16336.000000</td>\n",
              "    </tr>\n",
              "  </tbody>\n",
              "</table>\n",
              "</div>"
            ],
            "text/plain": [
              "        multimedia    printPage  articleWordCount\n",
              "count  9335.000000  9335.000000       9335.000000\n",
              "mean     25.257633     6.855597       1103.619711\n",
              "std      31.293703    10.370867        831.760871\n",
              "min       0.000000     0.000000         11.000000\n",
              "25%       1.000000     0.000000        725.000000\n",
              "50%       3.000000     1.000000       1000.000000\n",
              "75%      67.000000    11.000000       1316.500000\n",
              "max      68.000000   198.000000      16336.000000"
            ]
          },
          "metadata": {},
          "execution_count": 10
        }
      ]
    },
    {
      "cell_type": "code",
      "metadata": {
        "colab": {
          "base_uri": "https://localhost:8080/"
        },
        "id": "4r3BToQJQRkc",
        "outputId": "7aed8217-33dc-40aa-bc14-621daf8ea123"
      },
      "source": [
        "#Distinct document types\n",
        "print(articles['documentType'].nunique()) \n",
        "print(articles['documentType'].unique())"
      ],
      "execution_count": null,
      "outputs": [
        {
          "output_type": "stream",
          "name": "stdout",
          "text": [
            "2\n",
            "['article' 'blogpost']\n"
          ]
        }
      ]
    },
    {
      "cell_type": "code",
      "metadata": {
        "colab": {
          "base_uri": "https://localhost:8080/"
        },
        "id": "Iq0ce4_2RcW0",
        "outputId": "d48775ff-c0ae-478f-8d56-308c7fcc53ea"
      },
      "source": [
        "#Distinct topics\n",
        "print(articles['newDesk'].nunique()) \n",
        "print(articles['newDesk'].unique())"
      ],
      "execution_count": null,
      "outputs": [
        {
          "output_type": "stream",
          "name": "stdout",
          "text": [
            "44\n",
            "['Sports' 'Climate' 'Dining' 'Washington' 'Foreign' 'NYTNow' 'Express'\n",
            " 'Insider' 'Learning' 'Magazine' 'Metro' 'RealEstate' 'Business'\n",
            " 'Politics' 'National' 'SpecialSections' 'BookReview' 'Well' 'Games'\n",
            " 'Culture' 'Editorial' 'OpEd' 'Arts&Leisure' 'Science' 'Travel' 'Upshot'\n",
            " 'Metropolitan' 'Investigative' 'NewsDesk' 'Weekend' 'SundayBusiness'\n",
            " 'Styles' 'Photo' 'Obits' 'Smarter Living' 'Society' 'Podcasts' 'Summary'\n",
            " 'TStyle' 'Unknown' 'EdLife' 'Letters' 'Automobiles' 'Video']\n"
          ]
        }
      ]
    },
    {
      "cell_type": "code",
      "metadata": {
        "colab": {
          "base_uri": "https://localhost:8080/"
        },
        "id": "8SwJm57TR0MD",
        "outputId": "11a1e852-e498-4228-f67c-d99b8548ef1c"
      },
      "source": [
        "#Distinct sections\n",
        "print(articles['sectionName'].nunique()) \n",
        "print(articles['sectionName'].unique())"
      ],
      "execution_count": null,
      "outputs": [
        {
          "output_type": "stream",
          "name": "stdout",
          "text": [
            "62\n",
            "['Pro Football' 'Unknown' 'Europe' 'Canada' 'Politics' 'Book Review' 'Eat'\n",
            " 'DealBook' 'Asia Pacific' 'Wine, Beer & Cocktails' 'Family' 'Hockey'\n",
            " 'Africa' 'Television' 'Economy' 'Middle East' 'Tennis' 'Sunday Review'\n",
            " 'Live' 'The Daily' 'Move' 'Cycling' 'Americas' 'Australia' 'Mind'\n",
            " 'Weddings' 'Art & Design' 'Lesson Plans' 'Personal Tech' 'Music'\n",
            " 'Pro Basketball' 'Learning' 'Media' 'Golf' 'College Basketball' 'Soccer'\n",
            " 'Baseball' 'College Football' 'Room For Debate' 'Education Life'\n",
            " 'Student Loans' 'Auto Racing' 'Cricket' 'Energy & Environment '\n",
            " 'Olympics' 'Retirement' \"401(k)'s and Similar Plans\" 'Opinion | Politics'\n",
            " 'Automobiles' 'Food' 'Dance' 'Art' 'Opinion | The World' 'Editorials'\n",
            " 'Fashion & Beauty' 'Entrepreneurship' 'Entertainment' 'Real Estate'\n",
            " 'Neighborhoods' 'Rugby' 'Paying for College' 'Insider Events']\n"
          ]
        }
      ]
    },
    {
      "cell_type": "code",
      "metadata": {
        "colab": {
          "base_uri": "https://localhost:8080/"
        },
        "id": "C49-XEXCSK-C",
        "outputId": "24cda51b-8759-4b66-b0ed-38c165764f98"
      },
      "source": [
        "#Distinct sources\n",
        "print(articles['source'].nunique()) \n",
        "print(articles['source'].unique())"
      ],
      "execution_count": null,
      "outputs": [
        {
          "output_type": "stream",
          "name": "stdout",
          "text": [
            "2\n",
            "['The New York Times' 'International New York Times']\n"
          ]
        }
      ]
    },
    {
      "cell_type": "code",
      "metadata": {
        "colab": {
          "base_uri": "https://localhost:8080/"
        },
        "id": "xJ6OJ1A0TAKk",
        "outputId": "06f2546b-12b3-4946-b065-de3f09657b11"
      },
      "source": [
        "#Distinct material types\n",
        "print(articles['typeOfMaterial'].nunique()) \n",
        "print(articles['typeOfMaterial'].unique())"
      ],
      "execution_count": null,
      "outputs": [
        {
          "output_type": "stream",
          "name": "stdout",
          "text": [
            "14\n",
            "['News' 'Editorial' 'Review' 'Op-Ed' 'briefing' 'Obituary (Obit)'\n",
            " 'News Analysis' 'Question' 'Blog' 'Brief' 'Letter' 'Biography'\n",
            " 'An Appraisal' 'Interview']\n"
          ]
        }
      ]
    },
    {
      "cell_type": "code",
      "metadata": {
        "id": "Hcq7GlM54pml"
      },
      "source": [
        "import glob\n",
        "comments = glob.glob('/content/Comments*.csv') #import all the csv files that represent comments"
      ],
      "execution_count": null,
      "outputs": []
    },
    {
      "cell_type": "code",
      "metadata": {
        "id": "sG1DEYSd4q6S"
      },
      "source": [
        "import pandas as pd\n",
        "comments_list = []\n",
        "\n",
        "for comment in comments:\n",
        "    df2 = pd.read_csv(comment, index_col=None, header=0, low_memory=False)\n",
        "    comments_list.append(df2)\n",
        "\n",
        "comments = pd.concat(comments_list, axis=0, ignore_index=True) #store all the comments in one unique dataframe"
      ],
      "execution_count": null,
      "outputs": []
    },
    {
      "cell_type": "code",
      "metadata": {
        "colab": {
          "base_uri": "https://localhost:8080/"
        },
        "id": "qP6Ahru04uoF",
        "outputId": "3fd60473-3628-4d25-c858-ee1c54d76332"
      },
      "source": [
        "type(comments)"
      ],
      "execution_count": null,
      "outputs": [
        {
          "output_type": "execute_result",
          "data": {
            "text/plain": [
              "pandas.core.frame.DataFrame"
            ]
          },
          "metadata": {},
          "execution_count": 52
        }
      ]
    },
    {
      "cell_type": "code",
      "metadata": {
        "colab": {
          "base_uri": "https://localhost:8080/"
        },
        "id": "qz5KTThe4utX",
        "outputId": "9fd613ac-f5d9-42f8-9d4f-c4318b1d42d6"
      },
      "source": [
        "comments.shape"
      ],
      "execution_count": null,
      "outputs": [
        {
          "output_type": "execute_result",
          "data": {
            "text/plain": [
              "(2176364, 34)"
            ]
          },
          "metadata": {},
          "execution_count": 8
        }
      ]
    },
    {
      "cell_type": "code",
      "metadata": {
        "colab": {
          "base_uri": "https://localhost:8080/"
        },
        "id": "2PG6qMnt4uwL",
        "outputId": "8dae286a-f16f-40d3-9a73-26da6404e1ba"
      },
      "source": [
        "comments.info()"
      ],
      "execution_count": null,
      "outputs": [
        {
          "output_type": "stream",
          "name": "stdout",
          "text": [
            "<class 'pandas.core.frame.DataFrame'>\n",
            "RangeIndex: 2176364 entries, 0 to 2176363\n",
            "Data columns (total 34 columns):\n",
            " #   Column                 Dtype  \n",
            "---  ------                 -----  \n",
            " 0   approveDate            int64  \n",
            " 1   articleID              object \n",
            " 2   articleWordCount       float64\n",
            " 3   commentBody            object \n",
            " 4   commentID              float64\n",
            " 5   commentSequence        float64\n",
            " 6   commentTitle           object \n",
            " 7   commentType            object \n",
            " 8   createDate             float64\n",
            " 9   depth                  float64\n",
            " 10  editorsSelection       int64  \n",
            " 11  inReplyTo              float64\n",
            " 12  newDesk                object \n",
            " 13  parentID               float64\n",
            " 14  parentUserDisplayName  object \n",
            " 15  permID                 object \n",
            " 16  picURL                 object \n",
            " 17  printPage              float64\n",
            " 18  recommendations        float64\n",
            " 19  recommendedFlag        float64\n",
            " 20  replyCount             float64\n",
            " 21  reportAbuseFlag        float64\n",
            " 22  sectionName            object \n",
            " 23  sharing                int64  \n",
            " 24  status                 object \n",
            " 25  timespeople            float64\n",
            " 26  trusted                float64\n",
            " 27  typeOfMaterial         object \n",
            " 28  updateDate             int64  \n",
            " 29  userDisplayName        object \n",
            " 30  userID                 float64\n",
            " 31  userLocation           object \n",
            " 32  userTitle              object \n",
            " 33  userURL                object \n",
            "dtypes: float64(15), int64(4), object(15)\n",
            "memory usage: 564.5+ MB\n"
          ]
        }
      ]
    },
    {
      "cell_type": "code",
      "metadata": {
        "colab": {
          "base_uri": "https://localhost:8080/",
          "height": 521
        },
        "id": "F_x667Ry4uzE",
        "outputId": "66f7bb51-3c71-455d-c1ee-8360c4c9c69a"
      },
      "source": [
        "comments.head()"
      ],
      "execution_count": null,
      "outputs": [
        {
          "output_type": "execute_result",
          "data": {
            "text/html": [
              "<div>\n",
              "<style scoped>\n",
              "    .dataframe tbody tr th:only-of-type {\n",
              "        vertical-align: middle;\n",
              "    }\n",
              "\n",
              "    .dataframe tbody tr th {\n",
              "        vertical-align: top;\n",
              "    }\n",
              "\n",
              "    .dataframe thead th {\n",
              "        text-align: right;\n",
              "    }\n",
              "</style>\n",
              "<table border=\"1\" class=\"dataframe\">\n",
              "  <thead>\n",
              "    <tr style=\"text-align: right;\">\n",
              "      <th></th>\n",
              "      <th>approveDate</th>\n",
              "      <th>articleID</th>\n",
              "      <th>articleWordCount</th>\n",
              "      <th>commentBody</th>\n",
              "      <th>commentID</th>\n",
              "      <th>commentSequence</th>\n",
              "      <th>commentTitle</th>\n",
              "      <th>commentType</th>\n",
              "      <th>createDate</th>\n",
              "      <th>depth</th>\n",
              "      <th>editorsSelection</th>\n",
              "      <th>inReplyTo</th>\n",
              "      <th>newDesk</th>\n",
              "      <th>parentID</th>\n",
              "      <th>parentUserDisplayName</th>\n",
              "      <th>permID</th>\n",
              "      <th>picURL</th>\n",
              "      <th>printPage</th>\n",
              "      <th>recommendations</th>\n",
              "      <th>recommendedFlag</th>\n",
              "      <th>replyCount</th>\n",
              "      <th>reportAbuseFlag</th>\n",
              "      <th>sectionName</th>\n",
              "      <th>sharing</th>\n",
              "      <th>status</th>\n",
              "      <th>timespeople</th>\n",
              "      <th>trusted</th>\n",
              "      <th>updateDate</th>\n",
              "      <th>userDisplayName</th>\n",
              "      <th>userID</th>\n",
              "      <th>userLocation</th>\n",
              "      <th>userTitle</th>\n",
              "      <th>userURL</th>\n",
              "      <th>typeOfMaterial</th>\n",
              "    </tr>\n",
              "  </thead>\n",
              "  <tbody>\n",
              "    <tr>\n",
              "      <th>0</th>\n",
              "      <td>1486065741</td>\n",
              "      <td>58927e0495d0e0392607e1b3</td>\n",
              "      <td>1129.0</td>\n",
              "      <td>ANY anti Trump propaganda from Gaga and my TV ...</td>\n",
              "      <td>21332974.0</td>\n",
              "      <td>21332974.0</td>\n",
              "      <td>&lt;br/&gt;</td>\n",
              "      <td>comment</td>\n",
              "      <td>1.486012e+09</td>\n",
              "      <td>1.0</td>\n",
              "      <td>0</td>\n",
              "      <td>0.0</td>\n",
              "      <td>Sports</td>\n",
              "      <td>0.0</td>\n",
              "      <td>NaN</td>\n",
              "      <td>21332974</td>\n",
              "      <td>https://graphics8.nytimes.com/images/apps/time...</td>\n",
              "      <td>12.0</td>\n",
              "      <td>0.0</td>\n",
              "      <td>NaN</td>\n",
              "      <td>0.0</td>\n",
              "      <td>NaN</td>\n",
              "      <td>Pro Football</td>\n",
              "      <td>0</td>\n",
              "      <td>approved</td>\n",
              "      <td>1.0</td>\n",
              "      <td>0.0</td>\n",
              "      <td>1486065741</td>\n",
              "      <td>vilonia</td>\n",
              "      <td>68372461.0</td>\n",
              "      <td>conway, ar</td>\n",
              "      <td>NaN</td>\n",
              "      <td>NaN</td>\n",
              "      <td>News</td>\n",
              "    </tr>\n",
              "    <tr>\n",
              "      <th>1</th>\n",
              "      <td>1486055271</td>\n",
              "      <td>58927e0495d0e0392607e1b3</td>\n",
              "      <td>1129.0</td>\n",
              "      <td>I'll not watch the SB, nor the grammys or osca...</td>\n",
              "      <td>21332861.0</td>\n",
              "      <td>21332861.0</td>\n",
              "      <td>&lt;br/&gt;</td>\n",
              "      <td>comment</td>\n",
              "      <td>1.486011e+09</td>\n",
              "      <td>1.0</td>\n",
              "      <td>0</td>\n",
              "      <td>0.0</td>\n",
              "      <td>Sports</td>\n",
              "      <td>0.0</td>\n",
              "      <td>NaN</td>\n",
              "      <td>21332861</td>\n",
              "      <td>https://graphics8.nytimes.com/images/apps/time...</td>\n",
              "      <td>12.0</td>\n",
              "      <td>0.0</td>\n",
              "      <td>NaN</td>\n",
              "      <td>0.0</td>\n",
              "      <td>NaN</td>\n",
              "      <td>Pro Football</td>\n",
              "      <td>0</td>\n",
              "      <td>approved</td>\n",
              "      <td>1.0</td>\n",
              "      <td>0.0</td>\n",
              "      <td>1486055271</td>\n",
              "      <td>Joe Schultz</td>\n",
              "      <td>73635333.0</td>\n",
              "      <td>Hays, KS</td>\n",
              "      <td>NaN</td>\n",
              "      <td>NaN</td>\n",
              "      <td>News</td>\n",
              "    </tr>\n",
              "    <tr>\n",
              "      <th>2</th>\n",
              "      <td>1486055240</td>\n",
              "      <td>58927e0495d0e0392607e1b3</td>\n",
              "      <td>1129.0</td>\n",
              "      <td>NFL's going to do another \"in-your-face, Ameri...</td>\n",
              "      <td>21332686.0</td>\n",
              "      <td>21332686.0</td>\n",
              "      <td>NaN</td>\n",
              "      <td>comment</td>\n",
              "      <td>1.486009e+09</td>\n",
              "      <td>1.0</td>\n",
              "      <td>0</td>\n",
              "      <td>0.0</td>\n",
              "      <td>Sports</td>\n",
              "      <td>0.0</td>\n",
              "      <td>NaN</td>\n",
              "      <td>21332686</td>\n",
              "      <td>https://graphics8.nytimes.com/images/apps/time...</td>\n",
              "      <td>12.0</td>\n",
              "      <td>0.0</td>\n",
              "      <td>NaN</td>\n",
              "      <td>0.0</td>\n",
              "      <td>NaN</td>\n",
              "      <td>Pro Football</td>\n",
              "      <td>0</td>\n",
              "      <td>approved</td>\n",
              "      <td>1.0</td>\n",
              "      <td>0.0</td>\n",
              "      <td>1486055240</td>\n",
              "      <td>WilliamPenn2</td>\n",
              "      <td>61340508.0</td>\n",
              "      <td>Tacony</td>\n",
              "      <td>NaN</td>\n",
              "      <td>NaN</td>\n",
              "      <td>News</td>\n",
              "    </tr>\n",
              "    <tr>\n",
              "      <th>3</th>\n",
              "      <td>1486055221</td>\n",
              "      <td>58927e0495d0e0392607e1b3</td>\n",
              "      <td>1129.0</td>\n",
              "      <td>I'm continually amazed at the ill-placed crede...</td>\n",
              "      <td>21332622.0</td>\n",
              "      <td>21332622.0</td>\n",
              "      <td>&lt;br/&gt;</td>\n",
              "      <td>comment</td>\n",
              "      <td>1.486008e+09</td>\n",
              "      <td>1.0</td>\n",
              "      <td>0</td>\n",
              "      <td>0.0</td>\n",
              "      <td>Sports</td>\n",
              "      <td>0.0</td>\n",
              "      <td>NaN</td>\n",
              "      <td>21332622</td>\n",
              "      <td>https://graphics8.nytimes.com/images/apps/time...</td>\n",
              "      <td>12.0</td>\n",
              "      <td>0.0</td>\n",
              "      <td>NaN</td>\n",
              "      <td>0.0</td>\n",
              "      <td>NaN</td>\n",
              "      <td>Pro Football</td>\n",
              "      <td>0</td>\n",
              "      <td>approved</td>\n",
              "      <td>1.0</td>\n",
              "      <td>0.0</td>\n",
              "      <td>1486055221</td>\n",
              "      <td>Jeff Palmer</td>\n",
              "      <td>72632699.0</td>\n",
              "      <td>Shiloh, IL</td>\n",
              "      <td>NaN</td>\n",
              "      <td>NaN</td>\n",
              "      <td>News</td>\n",
              "    </tr>\n",
              "    <tr>\n",
              "      <th>4</th>\n",
              "      <td>1486055214</td>\n",
              "      <td>58927e0495d0e0392607e1b3</td>\n",
              "      <td>1129.0</td>\n",
              "      <td>Personally, I do not want to see any politics ...</td>\n",
              "      <td>21332516.0</td>\n",
              "      <td>21332516.0</td>\n",
              "      <td>&lt;br/&gt;</td>\n",
              "      <td>comment</td>\n",
              "      <td>1.486007e+09</td>\n",
              "      <td>1.0</td>\n",
              "      <td>0</td>\n",
              "      <td>0.0</td>\n",
              "      <td>Sports</td>\n",
              "      <td>0.0</td>\n",
              "      <td>NaN</td>\n",
              "      <td>21332516</td>\n",
              "      <td>https://graphics8.nytimes.com/images/apps/time...</td>\n",
              "      <td>12.0</td>\n",
              "      <td>0.0</td>\n",
              "      <td>NaN</td>\n",
              "      <td>0.0</td>\n",
              "      <td>NaN</td>\n",
              "      <td>Pro Football</td>\n",
              "      <td>0</td>\n",
              "      <td>approved</td>\n",
              "      <td>1.0</td>\n",
              "      <td>0.0</td>\n",
              "      <td>1486055214</td>\n",
              "      <td>Matt1234</td>\n",
              "      <td>60683284.0</td>\n",
              "      <td>Seattle</td>\n",
              "      <td>NaN</td>\n",
              "      <td>NaN</td>\n",
              "      <td>News</td>\n",
              "    </tr>\n",
              "  </tbody>\n",
              "</table>\n",
              "</div>"
            ],
            "text/plain": [
              "   approveDate                 articleID  ...  userURL typeOfMaterial\n",
              "0   1486065741  58927e0495d0e0392607e1b3  ...      NaN           News\n",
              "1   1486055271  58927e0495d0e0392607e1b3  ...      NaN           News\n",
              "2   1486055240  58927e0495d0e0392607e1b3  ...      NaN           News\n",
              "3   1486055221  58927e0495d0e0392607e1b3  ...      NaN           News\n",
              "4   1486055214  58927e0495d0e0392607e1b3  ...      NaN           News\n",
              "\n",
              "[5 rows x 34 columns]"
            ]
          },
          "metadata": {},
          "execution_count": 18
        }
      ]
    },
    {
      "cell_type": "code",
      "metadata": {
        "colab": {
          "base_uri": "https://localhost:8080/",
          "height": 364
        },
        "id": "dn6nmKFa4u2A",
        "outputId": "7d65919a-5a21-481f-cf9a-7364e0c890a2"
      },
      "source": [
        "comments.describe().apply(lambda s: s.apply('{0:.5f}'.format)) #we use a lambda function in order to suppress scientific notation"
      ],
      "execution_count": null,
      "outputs": [
        {
          "output_type": "execute_result",
          "data": {
            "text/html": [
              "\n",
              "  <div id=\"df-01cd521d-ddd2-4d32-b71f-ab554a4928ec\">\n",
              "    <div class=\"colab-df-container\">\n",
              "      <div>\n",
              "<style scoped>\n",
              "    .dataframe tbody tr th:only-of-type {\n",
              "        vertical-align: middle;\n",
              "    }\n",
              "\n",
              "    .dataframe tbody tr th {\n",
              "        vertical-align: top;\n",
              "    }\n",
              "\n",
              "    .dataframe thead th {\n",
              "        text-align: right;\n",
              "    }\n",
              "</style>\n",
              "<table border=\"1\" class=\"dataframe\">\n",
              "  <thead>\n",
              "    <tr style=\"text-align: right;\">\n",
              "      <th></th>\n",
              "      <th>approveDate</th>\n",
              "      <th>commentID</th>\n",
              "      <th>commentSequence</th>\n",
              "      <th>createDate</th>\n",
              "      <th>depth</th>\n",
              "      <th>editorsSelection</th>\n",
              "      <th>parentID</th>\n",
              "      <th>recommendations</th>\n",
              "      <th>recommendedFlag</th>\n",
              "      <th>replyCount</th>\n",
              "      <th>reportAbuseFlag</th>\n",
              "      <th>sharing</th>\n",
              "      <th>timespeople</th>\n",
              "      <th>trusted</th>\n",
              "      <th>updateDate</th>\n",
              "      <th>userID</th>\n",
              "      <th>inReplyTo</th>\n",
              "      <th>articleWordCount</th>\n",
              "      <th>printPage</th>\n",
              "    </tr>\n",
              "  </thead>\n",
              "  <tbody>\n",
              "    <tr>\n",
              "      <th>count</th>\n",
              "      <td>2176364.00000</td>\n",
              "      <td>2176364.00000</td>\n",
              "      <td>2176364.00000</td>\n",
              "      <td>2176364.00000</td>\n",
              "      <td>2176364.00000</td>\n",
              "      <td>2176364.00000</td>\n",
              "      <td>2176364.00000</td>\n",
              "      <td>2176364.00000</td>\n",
              "      <td>0.00000</td>\n",
              "      <td>2176364.00000</td>\n",
              "      <td>0.00000</td>\n",
              "      <td>2176364.00000</td>\n",
              "      <td>2176364.00000</td>\n",
              "      <td>2176364.00000</td>\n",
              "      <td>2176364.00000</td>\n",
              "      <td>2176364.00000</td>\n",
              "      <td>2176364.00000</td>\n",
              "      <td>2176364.00000</td>\n",
              "      <td>2176364.00000</td>\n",
              "    </tr>\n",
              "    <tr>\n",
              "      <th>mean</th>\n",
              "      <td>1503045125.04389</td>\n",
              "      <td>23731277.65568</td>\n",
              "      <td>23731276.49607</td>\n",
              "      <td>1503034627.86571</td>\n",
              "      <td>1.27058</td>\n",
              "      <td>0.01910</td>\n",
              "      <td>6343972.11885</td>\n",
              "      <td>19.73701</td>\n",
              "      <td>nan</td>\n",
              "      <td>0.43500</td>\n",
              "      <td>nan</td>\n",
              "      <td>0.08533</td>\n",
              "      <td>0.96421</td>\n",
              "      <td>0.03461</td>\n",
              "      <td>1503046437.45699</td>\n",
              "      <td>50019049.49143</td>\n",
              "      <td>6343939.97459</td>\n",
              "      <td>1265.96201</td>\n",
              "      <td>9.09980</td>\n",
              "    </tr>\n",
              "    <tr>\n",
              "      <th>std</th>\n",
              "      <td>15325466.39195</td>\n",
              "      <td>2200550.32123</td>\n",
              "      <td>2200548.90590</td>\n",
              "      <td>15325980.26913</td>\n",
              "      <td>0.45293</td>\n",
              "      <td>0.13688</td>\n",
              "      <td>10578298.72308</td>\n",
              "      <td>105.21034</td>\n",
              "      <td>nan</td>\n",
              "      <td>2.26007</td>\n",
              "      <td>nan</td>\n",
              "      <td>0.27937</td>\n",
              "      <td>0.18576</td>\n",
              "      <td>0.18280</td>\n",
              "      <td>15324948.10269</td>\n",
              "      <td>23445285.63986</td>\n",
              "      <td>10578282.31876</td>\n",
              "      <td>879.44458</td>\n",
              "      <td>10.79504</td>\n",
              "    </tr>\n",
              "    <tr>\n",
              "      <th>min</th>\n",
              "      <td>1483318267.00000</td>\n",
              "      <td>20963706.00000</td>\n",
              "      <td>20963706.00000</td>\n",
              "      <td>1483314066.00000</td>\n",
              "      <td>1.00000</td>\n",
              "      <td>0.00000</td>\n",
              "      <td>0.00000</td>\n",
              "      <td>0.00000</td>\n",
              "      <td>nan</td>\n",
              "      <td>-128.00000</td>\n",
              "      <td>nan</td>\n",
              "      <td>0.00000</td>\n",
              "      <td>0.00000</td>\n",
              "      <td>0.00000</td>\n",
              "      <td>1483318267.00000</td>\n",
              "      <td>1045.00000</td>\n",
              "      <td>0.00000</td>\n",
              "      <td>11.00000</td>\n",
              "      <td>0.00000</td>\n",
              "    </tr>\n",
              "    <tr>\n",
              "      <th>25%</th>\n",
              "      <td>1489168797.75000</td>\n",
              "      <td>21762212.75000</td>\n",
              "      <td>21762212.75000</td>\n",
              "      <td>1489163748.75000</td>\n",
              "      <td>1.00000</td>\n",
              "      <td>0.00000</td>\n",
              "      <td>0.00000</td>\n",
              "      <td>1.00000</td>\n",
              "      <td>nan</td>\n",
              "      <td>0.00000</td>\n",
              "      <td>nan</td>\n",
              "      <td>0.00000</td>\n",
              "      <td>1.00000</td>\n",
              "      <td>0.00000</td>\n",
              "      <td>1489170348.00000</td>\n",
              "      <td>32716950.00000</td>\n",
              "      <td>0.00000</td>\n",
              "      <td>834.00000</td>\n",
              "      <td>1.00000</td>\n",
              "    </tr>\n",
              "    <tr>\n",
              "      <th>50%</th>\n",
              "      <td>1494796919.50000</td>\n",
              "      <td>22498319.50000</td>\n",
              "      <td>22498319.50000</td>\n",
              "      <td>1494789169.50000</td>\n",
              "      <td>1.00000</td>\n",
              "      <td>0.00000</td>\n",
              "      <td>0.00000</td>\n",
              "      <td>4.00000</td>\n",
              "      <td>nan</td>\n",
              "      <td>0.00000</td>\n",
              "      <td>nan</td>\n",
              "      <td>0.00000</td>\n",
              "      <td>1.00000</td>\n",
              "      <td>0.00000</td>\n",
              "      <td>1494799007.00000</td>\n",
              "      <td>57519925.00000</td>\n",
              "      <td>0.00000</td>\n",
              "      <td>1122.00000</td>\n",
              "      <td>1.00000</td>\n",
              "    </tr>\n",
              "    <tr>\n",
              "      <th>75%</th>\n",
              "      <td>1519525310.00000</td>\n",
              "      <td>26104094.50000</td>\n",
              "      <td>26104094.50000</td>\n",
              "      <td>1519512167.50000</td>\n",
              "      <td>2.00000</td>\n",
              "      <td>0.00000</td>\n",
              "      <td>21200338.00000</td>\n",
              "      <td>10.00000</td>\n",
              "      <td>nan</td>\n",
              "      <td>0.00000</td>\n",
              "      <td>nan</td>\n",
              "      <td>0.00000</td>\n",
              "      <td>1.00000</td>\n",
              "      <td>0.00000</td>\n",
              "      <td>1519525975.75000</td>\n",
              "      <td>67803200.00000</td>\n",
              "      <td>21200322.00000</td>\n",
              "      <td>1432.00000</td>\n",
              "      <td>19.00000</td>\n",
              "    </tr>\n",
              "    <tr>\n",
              "      <th>max</th>\n",
              "      <td>1525233035.00000</td>\n",
              "      <td>26941258.00000</td>\n",
              "      <td>26941258.00000</td>\n",
              "      <td>1525233032.00000</td>\n",
              "      <td>5.00000</td>\n",
              "      <td>1.00000</td>\n",
              "      <td>26940992.00000</td>\n",
              "      <td>10472.00000</td>\n",
              "      <td>nan</td>\n",
              "      <td>668.00000</td>\n",
              "      <td>nan</td>\n",
              "      <td>1.00000</td>\n",
              "      <td>1.00000</td>\n",
              "      <td>1.00000</td>\n",
              "      <td>1525233035.00000</td>\n",
              "      <td>85856312.00000</td>\n",
              "      <td>26940992.00000</td>\n",
              "      <td>16336.00000</td>\n",
              "      <td>198.00000</td>\n",
              "    </tr>\n",
              "  </tbody>\n",
              "</table>\n",
              "</div>\n",
              "      <button class=\"colab-df-convert\" onclick=\"convertToInteractive('df-01cd521d-ddd2-4d32-b71f-ab554a4928ec')\"\n",
              "              title=\"Convert this dataframe to an interactive table.\"\n",
              "              style=\"display:none;\">\n",
              "        \n",
              "  <svg xmlns=\"http://www.w3.org/2000/svg\" height=\"24px\"viewBox=\"0 0 24 24\"\n",
              "       width=\"24px\">\n",
              "    <path d=\"M0 0h24v24H0V0z\" fill=\"none\"/>\n",
              "    <path d=\"M18.56 5.44l.94 2.06.94-2.06 2.06-.94-2.06-.94-.94-2.06-.94 2.06-2.06.94zm-11 1L8.5 8.5l.94-2.06 2.06-.94-2.06-.94L8.5 2.5l-.94 2.06-2.06.94zm10 10l.94 2.06.94-2.06 2.06-.94-2.06-.94-.94-2.06-.94 2.06-2.06.94z\"/><path d=\"M17.41 7.96l-1.37-1.37c-.4-.4-.92-.59-1.43-.59-.52 0-1.04.2-1.43.59L10.3 9.45l-7.72 7.72c-.78.78-.78 2.05 0 2.83L4 21.41c.39.39.9.59 1.41.59.51 0 1.02-.2 1.41-.59l7.78-7.78 2.81-2.81c.8-.78.8-2.07 0-2.86zM5.41 20L4 18.59l7.72-7.72 1.47 1.35L5.41 20z\"/>\n",
              "  </svg>\n",
              "      </button>\n",
              "      \n",
              "  <style>\n",
              "    .colab-df-container {\n",
              "      display:flex;\n",
              "      flex-wrap:wrap;\n",
              "      gap: 12px;\n",
              "    }\n",
              "\n",
              "    .colab-df-convert {\n",
              "      background-color: #E8F0FE;\n",
              "      border: none;\n",
              "      border-radius: 50%;\n",
              "      cursor: pointer;\n",
              "      display: none;\n",
              "      fill: #1967D2;\n",
              "      height: 32px;\n",
              "      padding: 0 0 0 0;\n",
              "      width: 32px;\n",
              "    }\n",
              "\n",
              "    .colab-df-convert:hover {\n",
              "      background-color: #E2EBFA;\n",
              "      box-shadow: 0px 1px 2px rgba(60, 64, 67, 0.3), 0px 1px 3px 1px rgba(60, 64, 67, 0.15);\n",
              "      fill: #174EA6;\n",
              "    }\n",
              "\n",
              "    [theme=dark] .colab-df-convert {\n",
              "      background-color: #3B4455;\n",
              "      fill: #D2E3FC;\n",
              "    }\n",
              "\n",
              "    [theme=dark] .colab-df-convert:hover {\n",
              "      background-color: #434B5C;\n",
              "      box-shadow: 0px 1px 3px 1px rgba(0, 0, 0, 0.15);\n",
              "      filter: drop-shadow(0px 1px 2px rgba(0, 0, 0, 0.3));\n",
              "      fill: #FFFFFF;\n",
              "    }\n",
              "  </style>\n",
              "\n",
              "      <script>\n",
              "        const buttonEl =\n",
              "          document.querySelector('#df-01cd521d-ddd2-4d32-b71f-ab554a4928ec button.colab-df-convert');\n",
              "        buttonEl.style.display =\n",
              "          google.colab.kernel.accessAllowed ? 'block' : 'none';\n",
              "\n",
              "        async function convertToInteractive(key) {\n",
              "          const element = document.querySelector('#df-01cd521d-ddd2-4d32-b71f-ab554a4928ec');\n",
              "          const dataTable =\n",
              "            await google.colab.kernel.invokeFunction('convertToInteractive',\n",
              "                                                     [key], {});\n",
              "          if (!dataTable) return;\n",
              "\n",
              "          const docLinkHtml = 'Like what you see? Visit the ' +\n",
              "            '<a target=\"_blank\" href=https://colab.research.google.com/notebooks/data_table.ipynb>data table notebook</a>'\n",
              "            + ' to learn more about interactive tables.';\n",
              "          element.innerHTML = '';\n",
              "          dataTable['output_type'] = 'display_data';\n",
              "          await google.colab.output.renderOutput(dataTable, element);\n",
              "          const docLink = document.createElement('div');\n",
              "          docLink.innerHTML = docLinkHtml;\n",
              "          element.appendChild(docLink);\n",
              "        }\n",
              "      </script>\n",
              "    </div>\n",
              "  </div>\n",
              "  "
            ],
            "text/plain": [
              "            approveDate       commentID  ... articleWordCount      printPage\n",
              "count     2176364.00000   2176364.00000  ...    2176364.00000  2176364.00000\n",
              "mean   1503045125.04389  23731277.65568  ...       1265.96201        9.09980\n",
              "std      15325466.39195   2200550.32123  ...        879.44458       10.79504\n",
              "min    1483318267.00000  20963706.00000  ...         11.00000        0.00000\n",
              "25%    1489168797.75000  21762212.75000  ...        834.00000        1.00000\n",
              "50%    1494796919.50000  22498319.50000  ...       1122.00000        1.00000\n",
              "75%    1519525310.00000  26104094.50000  ...       1432.00000       19.00000\n",
              "max    1525233035.00000  26941258.00000  ...      16336.00000      198.00000\n",
              "\n",
              "[8 rows x 19 columns]"
            ]
          },
          "metadata": {},
          "execution_count": 28
        }
      ]
    },
    {
      "cell_type": "code",
      "metadata": {
        "colab": {
          "base_uri": "https://localhost:8080/"
        },
        "id": "hiN0Txmd4u8y",
        "outputId": "0f956e63-9601-42c3-b866-9eb7a80825b2"
      },
      "source": [
        "#Distinct comment types\n",
        "print(comments['commentType'].nunique()) \n",
        "print(comments['commentType'].unique())"
      ],
      "execution_count": null,
      "outputs": [
        {
          "output_type": "stream",
          "name": "stdout",
          "text": [
            "3\n",
            "['comment' 'userReply' 'reporterReply']\n"
          ]
        }
      ]
    },
    {
      "cell_type": "code",
      "metadata": {
        "colab": {
          "base_uri": "https://localhost:8080/"
        },
        "id": "XSyQvHY-4vBS",
        "outputId": "dca685a5-665d-46e8-cfc1-8d7e173eafb7"
      },
      "source": [
        "#Distinct topics\n",
        "print(comments['newDesk'].nunique()) \n",
        "print(comments['newDesk'].unique())"
      ],
      "execution_count": null,
      "outputs": [
        {
          "output_type": "stream",
          "name": "stdout",
          "text": [
            "44\n",
            "['Travel' 'Washington' 'Metro' 'Editorial' 'OpEd' 'Foreign' 'Sports'\n",
            " 'BookReview' 'Culture' 'Business' 'Dining' 'Well' 'National' 'Podcasts'\n",
            " 'Upshot' 'RealEstate' 'Magazine' 'Styles' 'Learning' 'Smarter Living'\n",
            " 'Games' 'Science' 'Climate' 'NewsDesk' 'Unknown' 'Obits' 'SundayBusiness'\n",
            " 'Insider' 'Arts&Leisure' 'Weekend' 'Express' 'Metropolitan' 'Video'\n",
            " 'Letters' 'TStyle' 'SpecialSections' 'Automobiles' 'Society' 'EdLife'\n",
            " 'Summary' 'Politics' 'NYTNow' 'Investigative' 'Photo']\n"
          ]
        }
      ]
    },
    {
      "cell_type": "code",
      "metadata": {
        "colab": {
          "base_uri": "https://localhost:8080/"
        },
        "id": "IM6nzXUG-biT",
        "outputId": "8115c831-b2b5-4ce3-e71b-28a29f32d8cd"
      },
      "source": [
        "#Distinct sections\n",
        "print(comments['sectionName'].nunique()) \n",
        "print(comments['sectionName'].unique())"
      ],
      "execution_count": null,
      "outputs": [
        {
          "output_type": "stream",
          "name": "stdout",
          "text": [
            "63\n",
            "['Unknown' 'Politics' 'Editorials' 'Africa' 'Book Review' 'Eat' 'Europe'\n",
            " 'Pro Football' 'The Daily' 'Television' 'Middle East' 'Baseball' 'Family'\n",
            " 'Asia Pacific' 'Art & Design' 'Energy & Environment ' 'Music'\n",
            " 'Pro Basketball' 'Sunday Review' 'Wine, Beer & Cocktails' 'Lesson Plans'\n",
            " 'Live' 'Olympics' 'Americas' 'Personal Tech' 'Move' 'DealBook' 'Media'\n",
            " 'Economy' 'Fashion & Beauty' 'Tennis' 'Canada' 'Soccer' 'Dance' 'Mind'\n",
            " 'World Cup' 'Australia' 'Cricket' 'Hockey' 'Weddings' 'Golf'\n",
            " 'College Basketball' 'Education Life' 'Student Loans' 'Auto Racing'\n",
            " 'College Football' 'Room For Debate' 'Cycling' 'Learning'\n",
            " 'Entrepreneurship' 'Entertainment' 'Opinion | Politics' 'Real Estate'\n",
            " 'Retirement' 'Neighborhoods' \"401(k)'s and Similar Plans\" 'Rugby'\n",
            " 'Paying for College' 'Insider Events' nan 'Automobiles' 'Food' 'Art'\n",
            " 'Opinion | The World']\n"
          ]
        }
      ]
    },
    {
      "cell_type": "code",
      "source": [
        "#Distinct statuses\n",
        "print(comments['status'].nunique()) \n",
        "print(comments['status'].unique())"
      ],
      "metadata": {
        "id": "0EvrAebetNim",
        "colab": {
          "base_uri": "https://localhost:8080/"
        },
        "outputId": "67a209f8-558d-477d-9cf8-5ff543cde7e5"
      },
      "execution_count": null,
      "outputs": [
        {
          "output_type": "stream",
          "name": "stdout",
          "text": [
            "1\n",
            "['approved']\n"
          ]
        }
      ]
    },
    {
      "cell_type": "code",
      "metadata": {
        "colab": {
          "base_uri": "https://localhost:8080/"
        },
        "id": "bvvL6rDH-8Ke",
        "outputId": "a506a14d-8e91-415b-d026-47c1efc477c3"
      },
      "source": [
        "#Distinct material types\n",
        "print(comments['typeOfMaterial'].nunique()) \n",
        "print(comments['typeOfMaterial'].unique())"
      ],
      "execution_count": null,
      "outputs": [
        {
          "output_type": "stream",
          "name": "stdout",
          "text": [
            "14\n",
            "['News' 'Editorial' 'Op-Ed' 'Review' 'briefing' 'Blog' 'Obituary (Obit)'\n",
            " 'News Analysis' 'Letter' 'Interview' 'Question' 'Brief' 'Biography'\n",
            " 'An Appraisal']\n"
          ]
        }
      ]
    },
    {
      "cell_type": "code",
      "metadata": {
        "colab": {
          "base_uri": "https://localhost:8080/"
        },
        "id": "6Oe8nb9z_MWn",
        "outputId": "d2a55295-b6da-4773-d696-a236bb411a79"
      },
      "source": [
        "#Distinct material types\n",
        "print(comments['userLocation'].nunique()) \n",
        "print(comments['userLocation'].unique())"
      ],
      "execution_count": null,
      "outputs": [
        {
          "output_type": "stream",
          "name": "stdout",
          "text": [
            "46968\n",
            "['Wilmington, NC' 'San Francisco' 'Chicago' ... 'Deerhorn Valley, CA'\n",
            " 'Port Isaac, Cornwall' 'here there everywhere']\n"
          ]
        }
      ]
    },
    {
      "cell_type": "code",
      "source": [
        "comments['editorsSelection'].value_counts()"
      ],
      "metadata": {
        "colab": {
          "base_uri": "https://localhost:8080/"
        },
        "id": "nWa4dHkOmp8d",
        "outputId": "4b6c4aad-1ee1-450c-eb63-8ea886d5d64c"
      },
      "execution_count": null,
      "outputs": [
        {
          "output_type": "execute_result",
          "data": {
            "text/plain": [
              "0    1555406\n",
              "1      40354\n",
              "Name: editorsSelection, dtype: int64"
            ]
          },
          "metadata": {},
          "execution_count": 65
        }
      ]
    },
    {
      "cell_type": "code",
      "metadata": {
        "id": "XT8vf1AITqQL"
      },
      "source": [
        "#Import necessary packages\n",
        "import numpy as np\n",
        "import pandas as pd\n",
        "import warnings\n",
        "warnings.filterwarnings(\"ignore\",category=DeprecationWarning)"
      ],
      "execution_count": null,
      "outputs": []
    },
    {
      "cell_type": "code",
      "metadata": {
        "colab": {
          "base_uri": "https://localhost:8080/"
        },
        "id": "9NJrwiuNVaSK",
        "outputId": "f6c052a4-55a9-4c2e-a7f6-b335950d93a4"
      },
      "source": [
        "#Identification of English stopwords and punctuation\n",
        "import nltk\n",
        "from nltk.corpus import stopwords \n",
        "import string\n",
        "nltk.download('stopwords')\n",
        "nltk.download('punkt')\n",
        "\n",
        "stop_words_en = stopwords.words(\"english\") \n",
        "stop_words_en = stop_words_en + list(string.punctuation)"
      ],
      "execution_count": null,
      "outputs": [
        {
          "output_type": "stream",
          "name": "stdout",
          "text": [
            "[nltk_data] Downloading package stopwords to /root/nltk_data...\n",
            "[nltk_data]   Package stopwords is already up-to-date!\n",
            "[nltk_data] Downloading package punkt to /root/nltk_data...\n",
            "[nltk_data]   Package punkt is already up-to-date!\n"
          ]
        }
      ]
    },
    {
      "cell_type": "markdown",
      "metadata": {
        "id": "zBXBwfUiQmFz"
      },
      "source": [
        "#Model implementation"
      ]
    },
    {
      "cell_type": "markdown",
      "source": [
        "###Latent Dirichlet Allocation "
      ],
      "metadata": {
        "id": "EvM_FtRdjqfh"
      }
    },
    {
      "cell_type": "code",
      "metadata": {
        "id": "zTcSjE5rz7hu",
        "colab": {
          "base_uri": "https://localhost:8080/"
        },
        "outputId": "5ac25bc0-ebfc-438d-9e59-b417ea7e6253"
      },
      "source": [
        "from pprint import pprint\n",
        "from nltk.tokenize import RegexpTokenizer\n",
        "nltk.download('wordnet')\n",
        "\n",
        "import gensim\n",
        "import gensim.corpora as corpora\n",
        "from gensim.utils import simple_preprocess\n",
        "from gensim.models import CoherenceModel\n",
        "from gensim.models import LdaModel "
      ],
      "execution_count": null,
      "outputs": [
        {
          "output_type": "stream",
          "name": "stdout",
          "text": [
            "[nltk_data] Downloading package wordnet to /root/nltk_data...\n",
            "[nltk_data]   Package wordnet is already up-to-date!\n"
          ]
        }
      ]
    },
    {
      "cell_type": "code",
      "metadata": {
        "id": "V2n1pKgG0j7b"
      },
      "source": [
        "from nltk.stem.wordnet import WordNetLemmatizer\n",
        "\n",
        "#Enable logging for gensim\n",
        "import logging\n",
        "logging.basicConfig(format='%(asctime)s : %(levelname)s : %(message)s', level=logging.ERROR)\n",
        "\n",
        "import warnings\n",
        "warnings.filterwarnings(\"ignore\",category=DeprecationWarning)"
      ],
      "execution_count": null,
      "outputs": []
    },
    {
      "cell_type": "code",
      "metadata": {
        "colab": {
          "base_uri": "https://localhost:8080/"
        },
        "id": "tVrEtZOsz7wG",
        "outputId": "d0fb3f1e-3a8c-4479-d2a4-4561d3d6adcd"
      },
      "source": [
        "#Split articles into tokens\n",
        "tokenizer = RegexpTokenizer(r'\\w+')\n",
        "\n",
        "for idx in range(len(articles['keywords'])):\n",
        "    articles['keywords'][idx] = articles['keywords'][idx]\n",
        "    articles['keywords'][idx] = tokenizer.tokenize(str(articles['keywords'][idx]) ) #Split into words\n",
        "\n",
        "docs = [[word for word in art if word not in stop_words_en] for art in articles['keywords']]"
      ],
      "execution_count": null,
      "outputs": [
        {
          "output_type": "stream",
          "name": "stderr",
          "text": [
            "/usr/local/lib/python3.7/dist-packages/ipykernel_launcher.py:5: SettingWithCopyWarning: \n",
            "A value is trying to be set on a copy of a slice from a DataFrame\n",
            "\n",
            "See the caveats in the documentation: https://pandas.pydata.org/pandas-docs/stable/user_guide/indexing.html#returning-a-view-versus-a-copy\n",
            "  \"\"\"\n",
            "/usr/local/lib/python3.7/dist-packages/ipykernel_launcher.py:6: SettingWithCopyWarning: \n",
            "A value is trying to be set on a copy of a slice from a DataFrame\n",
            "\n",
            "See the caveats in the documentation: https://pandas.pydata.org/pandas-docs/stable/user_guide/indexing.html#returning-a-view-versus-a-copy\n",
            "  \n"
          ]
        }
      ]
    },
    {
      "cell_type": "code",
      "metadata": {
        "id": "U9AkP2-40sYE"
      },
      "source": [
        "#Lemmatization\n",
        "lemmatizer = WordNetLemmatizer()\n",
        "text_lemm = [[lemmatizer.lemmatize(token) for token in doc] for doc in docs]"
      ],
      "execution_count": null,
      "outputs": []
    },
    {
      "cell_type": "code",
      "metadata": {
        "id": "XzhwxiyX0sar"
      },
      "source": [
        "#Create Dictionary\n",
        "my_dict = gensim.corpora.Dictionary(text_lemm)"
      ],
      "execution_count": null,
      "outputs": []
    },
    {
      "cell_type": "code",
      "metadata": {
        "id": "pC-a4vyi0sdu"
      },
      "source": [
        "#Create Corpus \n",
        "corpus = [my_dict.doc2bow(text) for text in text_lemm]"
      ],
      "execution_count": null,
      "outputs": []
    },
    {
      "cell_type": "code",
      "metadata": {
        "colab": {
          "base_uri": "https://localhost:8080/"
        },
        "id": "kjfcahyO0sh7",
        "outputId": "50a932a5-8787-4549-c7c9-347ab4c0fa4e"
      },
      "source": [
        "print(text_lemm[0])\n",
        "print(corpus[0])"
      ],
      "execution_count": null,
      "outputs": [
        {
          "output_type": "stream",
          "name": "stdout",
          "text": [
            "['Football', 'Super', 'Bowl', 'National', 'Football', 'League', 'New', 'England', 'Patriots', 'Goodell', 'Roger', 'Lady', 'Gaga', 'Immigration', 'Emigration', 'Trump', 'Donald', 'J']\n",
            "[(0, 1), (1, 1), (2, 1), (3, 1), (4, 2), (5, 1), (6, 1), (7, 1), (8, 1), (9, 1), (10, 1), (11, 1), (12, 1), (13, 1), (14, 1), (15, 1), (16, 1)]\n"
          ]
        }
      ]
    },
    {
      "cell_type": "code",
      "metadata": {
        "colab": {
          "base_uri": "https://localhost:8080/"
        },
        "id": "N2NSZyq62RXv",
        "outputId": "93948885-8363-4873-bd3f-753d352ae599"
      },
      "source": [
        "#Build the topic model\n",
        "model = gensim.models.LdaModel(corpus=corpus,\n",
        "                               id2word=my_dict,\n",
        "                               chunksize=100,\n",
        "                               alpha=0.1,\n",
        "                               eta=0.001,\n",
        "                               random_state=123,\n",
        "                               num_topics=10) "
      ],
      "execution_count": null,
      "outputs": [
        {
          "output_type": "stream",
          "name": "stderr",
          "text": [
            "/usr/local/lib/python3.7/dist-packages/gensim/models/ldamodel.py:1023: RuntimeWarning: divide by zero encountered in log\n",
            "  diff = np.log(self.expElogbeta)\n"
          ]
        }
      ]
    },
    {
      "cell_type": "code",
      "metadata": {
        "colab": {
          "base_uri": "https://localhost:8080/"
        },
        "id": "-F7XyZMl2RaN",
        "outputId": "52cb4719-0d2e-49fd-e8cb-3bf12cd20e53"
      },
      "source": [
        "#Show the 10 most significant words associated with topic 0\n",
        "model.show_topic(0)"
      ],
      "execution_count": null,
      "outputs": [
        {
          "output_type": "execute_result",
          "data": {
            "text/plain": [
              "[('The', 0.14962517),\n",
              " ('Program', 0.12166378),\n",
              " ('TV', 0.11907054),\n",
              " ('Television', 0.10397246),\n",
              " ('Court', 0.05093495),\n",
              " ('Supreme', 0.050040316),\n",
              " ('Office', 0.046668846),\n",
              " ('Neil', 0.046242096),\n",
              " ('Stephen', 0.04525013),\n",
              " ('Interest', 0.035982873)]"
            ]
          },
          "metadata": {},
          "execution_count": 19
        }
      ]
    },
    {
      "cell_type": "code",
      "metadata": {
        "colab": {
          "base_uri": "https://localhost:8080/"
        },
        "id": "f8WFK5tK2Rcs",
        "outputId": "d3aeac78-cc7d-4dff-9a8c-4fbc1545d950"
      },
      "source": [
        "model.show_topic(1)"
      ],
      "execution_count": null,
      "outputs": [
        {
          "output_type": "execute_result",
          "data": {
            "text/plain": [
              "[('Immigration', 0.06229227),\n",
              " ('Executive', 0.05689862),\n",
              " ('Department', 0.043173723),\n",
              " ('Democratic', 0.042674627),\n",
              " ('Emigration', 0.040127277),\n",
              " ('Changes', 0.03214851),\n",
              " ('Appointments', 0.03214851),\n",
              " ('Agency', 0.030335678),\n",
              " ('Persons', 0.030220933),\n",
              " ('Housing', 0.02956638)]"
            ]
          },
          "metadata": {},
          "execution_count": 20
        }
      ]
    },
    {
      "cell_type": "code",
      "metadata": {
        "colab": {
          "base_uri": "https://localhost:8080/"
        },
        "id": "9AthgyUf2RfU",
        "outputId": "9753d4bb-b97b-4c16-b340-84183ab2f580"
      },
      "source": [
        "#Print the 5 most significant topics, together with the 10 most significant words associated to them\n",
        "pprint(model.print_topics(num_topics=5))"
      ],
      "execution_count": null,
      "outputs": [
        {
          "output_type": "stream",
          "name": "stdout",
          "text": [
            "[(4,\n",
            "  '0.099*\"International\" + 0.064*\"Relations\" + 0.046*\"Media\" + 0.040*\"United\" '\n",
            "  '+ 0.039*\"World\" + 0.038*\"States\" + 0.037*\"Rights\" + 0.037*\"Labor\" + '\n",
            "  '0.037*\"Trade\" + 0.037*\"B\"'),\n",
            " (2,\n",
            "  '0.107*\"Travel\" + 0.097*\"Vacations\" + 0.095*\"Education\" + 0.081*\"K\" + '\n",
            "  '0.080*\"China\" + 0.060*\"12\" + 0.057*\"University\" + 0.052*\"Colleges\" + '\n",
            "  '0.051*\"Universities\" + 0.045*\"State\"'),\n",
            " (8,\n",
            "  '0.117*\"United\" + 0.117*\"States\" + 0.100*\"J\" + 0.098*\"Trump\" + '\n",
            "  '0.096*\"Politics\" + 0.094*\"Government\" + 0.094*\"Donald\" + 0.025*\"US\" + '\n",
            "  '0.022*\"Defense\" + 0.015*\"2016\"'),\n",
            " (7,\n",
            "  '0.090*\"NY\" + 0.070*\"Manhattan\" + 0.064*\"National\" + 0.063*\"D\" + '\n",
            "  '0.057*\"Department\" + 0.055*\"Times\" + 0.048*\"Paul\" + 0.038*\"Restaurant\" + '\n",
            "  '0.037*\"NYC\" + 0.033*\"Soccer\"'),\n",
            " (0,\n",
            "  '0.150*\"The\" + 0.122*\"Program\" + 0.119*\"TV\" + 0.104*\"Television\" + '\n",
            "  '0.051*\"Court\" + 0.050*\"Supreme\" + 0.047*\"Office\" + 0.046*\"Neil\" + '\n",
            "  '0.045*\"Stephen\" + 0.036*\"Interest\"')]\n"
          ]
        }
      ]
    },
    {
      "cell_type": "code",
      "metadata": {
        "colab": {
          "base_uri": "https://localhost:8080/"
        },
        "id": "b7cADT6p2Rhl",
        "outputId": "0c2b8a7b-6472-40d4-c021-eac3de4af01d"
      },
      "source": [
        "doc_lda = model[corpus]\n",
        "print('\\nPerplexity: ', model.log_perplexity(corpus))  #measure of how good the model is: the lower, the better.  -450.9062186078753, -503.3355432470003, -465.7516280550227, -510.00635851078033\n",
        "\n",
        "#Compute Coherence Score\n",
        "coherence_model_lda = CoherenceModel(model=model, texts=text_lemm, dictionary=my_dict, coherence='c_v') #coherence for topic models\n",
        "coherence_lda = coherence_model_lda.get_coherence()\n",
        "print('\\nCoherence Score: ', coherence_lda) #0.4688886651740882, 0.4482332542779016, 0.43322967429275444, 0.41176281113792335"
      ],
      "execution_count": null,
      "outputs": [
        {
          "output_type": "stream",
          "name": "stdout",
          "text": [
            "\n",
            "Perplexity:  -510.00635851078033\n",
            "\n",
            "Coherence Score:  0.41176281113792335\n"
          ]
        }
      ]
    },
    {
      "cell_type": "markdown",
      "source": [
        "###Logistic Regression"
      ],
      "metadata": {
        "id": "nEF18-Egj7Yn"
      }
    },
    {
      "cell_type": "code",
      "metadata": {
        "id": "lsRKwuRrq896"
      },
      "source": [
        "#Add the target variable\n",
        "comments['y']= np.where(((comments['editorsSelection'] == 1.0) & (comments['recommendations'] > 19.0) & (comments['replyCount'] > 0.0)), 1, 0)"
      ],
      "execution_count": null,
      "outputs": []
    },
    {
      "cell_type": "code",
      "metadata": {
        "colab": {
          "base_uri": "https://localhost:8080/",
          "height": 548
        },
        "id": "-Sj7ziMT-jnd",
        "outputId": "53e69077-642b-4226-9567-55bfd47d97bc"
      },
      "source": [
        "comments.head()"
      ],
      "execution_count": null,
      "outputs": [
        {
          "output_type": "execute_result",
          "data": {
            "text/html": [
              "\n",
              "  <div id=\"df-6be69628-e1d7-4606-a27c-310ef2dd53a4\">\n",
              "    <div class=\"colab-df-container\">\n",
              "      <div>\n",
              "<style scoped>\n",
              "    .dataframe tbody tr th:only-of-type {\n",
              "        vertical-align: middle;\n",
              "    }\n",
              "\n",
              "    .dataframe tbody tr th {\n",
              "        vertical-align: top;\n",
              "    }\n",
              "\n",
              "    .dataframe thead th {\n",
              "        text-align: right;\n",
              "    }\n",
              "</style>\n",
              "<table border=\"1\" class=\"dataframe\">\n",
              "  <thead>\n",
              "    <tr style=\"text-align: right;\">\n",
              "      <th></th>\n",
              "      <th>approveDate</th>\n",
              "      <th>articleID</th>\n",
              "      <th>articleWordCount</th>\n",
              "      <th>commentBody</th>\n",
              "      <th>commentID</th>\n",
              "      <th>commentSequence</th>\n",
              "      <th>commentTitle</th>\n",
              "      <th>commentType</th>\n",
              "      <th>createDate</th>\n",
              "      <th>depth</th>\n",
              "      <th>editorsSelection</th>\n",
              "      <th>inReplyTo</th>\n",
              "      <th>newDesk</th>\n",
              "      <th>parentID</th>\n",
              "      <th>parentUserDisplayName</th>\n",
              "      <th>permID</th>\n",
              "      <th>picURL</th>\n",
              "      <th>printPage</th>\n",
              "      <th>recommendations</th>\n",
              "      <th>recommendedFlag</th>\n",
              "      <th>replyCount</th>\n",
              "      <th>reportAbuseFlag</th>\n",
              "      <th>sectionName</th>\n",
              "      <th>sharing</th>\n",
              "      <th>status</th>\n",
              "      <th>timespeople</th>\n",
              "      <th>trusted</th>\n",
              "      <th>updateDate</th>\n",
              "      <th>userDisplayName</th>\n",
              "      <th>userID</th>\n",
              "      <th>userLocation</th>\n",
              "      <th>userTitle</th>\n",
              "      <th>userURL</th>\n",
              "      <th>typeOfMaterial</th>\n",
              "      <th>y</th>\n",
              "    </tr>\n",
              "  </thead>\n",
              "  <tbody>\n",
              "    <tr>\n",
              "      <th>0</th>\n",
              "      <td>1520043821</td>\n",
              "      <td>5a974697410cf7000162e8a4</td>\n",
              "      <td>1207.0</td>\n",
              "      <td>If the choice is between mining for bitcoin - ...</td>\n",
              "      <td>26188943.0</td>\n",
              "      <td>26188943.0</td>\n",
              "      <td>&lt;br/&gt;</td>\n",
              "      <td>comment</td>\n",
              "      <td>1.520029e+09</td>\n",
              "      <td>1.0</td>\n",
              "      <td>0</td>\n",
              "      <td>0.0</td>\n",
              "      <td>Business</td>\n",
              "      <td>0.0</td>\n",
              "      <td>NaN</td>\n",
              "      <td>26188943</td>\n",
              "      <td>https://s3.amazonaws.com/pimage.timespeople.ny...</td>\n",
              "      <td>1.0</td>\n",
              "      <td>10.0</td>\n",
              "      <td>NaN</td>\n",
              "      <td>0.0</td>\n",
              "      <td>NaN</td>\n",
              "      <td>Economy</td>\n",
              "      <td>1</td>\n",
              "      <td>approved</td>\n",
              "      <td>1.0</td>\n",
              "      <td>0.0</td>\n",
              "      <td>1520043821</td>\n",
              "      <td>Steve</td>\n",
              "      <td>46903103.0</td>\n",
              "      <td>Florida</td>\n",
              "      <td>NaN</td>\n",
              "      <td>NaN</td>\n",
              "      <td>News</td>\n",
              "      <td>0</td>\n",
              "    </tr>\n",
              "    <tr>\n",
              "      <th>1</th>\n",
              "      <td>1520043790</td>\n",
              "      <td>5a974697410cf7000162e8a4</td>\n",
              "      <td>1207.0</td>\n",
              "      <td>&lt;br/&gt;To me, Bitcoin (et al) appears to be an e...</td>\n",
              "      <td>26189292.0</td>\n",
              "      <td>26189292.0</td>\n",
              "      <td>&lt;br/&gt;</td>\n",
              "      <td>comment</td>\n",
              "      <td>1.520031e+09</td>\n",
              "      <td>1.0</td>\n",
              "      <td>0</td>\n",
              "      <td>0.0</td>\n",
              "      <td>Business</td>\n",
              "      <td>0.0</td>\n",
              "      <td>NaN</td>\n",
              "      <td>26189292</td>\n",
              "      <td>https://graphics8.nytimes.com/images/apps/time...</td>\n",
              "      <td>1.0</td>\n",
              "      <td>8.0</td>\n",
              "      <td>NaN</td>\n",
              "      <td>0.0</td>\n",
              "      <td>NaN</td>\n",
              "      <td>Economy</td>\n",
              "      <td>0</td>\n",
              "      <td>approved</td>\n",
              "      <td>1.0</td>\n",
              "      <td>0.0</td>\n",
              "      <td>1520043790</td>\n",
              "      <td>MyOpinion</td>\n",
              "      <td>82778.0</td>\n",
              "      <td>NYC</td>\n",
              "      <td>NaN</td>\n",
              "      <td>NaN</td>\n",
              "      <td>News</td>\n",
              "      <td>0</td>\n",
              "    </tr>\n",
              "    <tr>\n",
              "      <th>2</th>\n",
              "      <td>1520043789</td>\n",
              "      <td>5a974697410cf7000162e8a4</td>\n",
              "      <td>1207.0</td>\n",
              "      <td>Bitcoin is a pyramid scheme backed by nothing ...</td>\n",
              "      <td>26189645.0</td>\n",
              "      <td>26189645.0</td>\n",
              "      <td>&lt;br/&gt;</td>\n",
              "      <td>comment</td>\n",
              "      <td>1.520033e+09</td>\n",
              "      <td>1.0</td>\n",
              "      <td>0</td>\n",
              "      <td>0.0</td>\n",
              "      <td>Business</td>\n",
              "      <td>0.0</td>\n",
              "      <td>NaN</td>\n",
              "      <td>26189645</td>\n",
              "      <td>https://graphics8.nytimes.com/images/apps/time...</td>\n",
              "      <td>1.0</td>\n",
              "      <td>13.0</td>\n",
              "      <td>NaN</td>\n",
              "      <td>0.0</td>\n",
              "      <td>NaN</td>\n",
              "      <td>Economy</td>\n",
              "      <td>0</td>\n",
              "      <td>approved</td>\n",
              "      <td>1.0</td>\n",
              "      <td>0.0</td>\n",
              "      <td>1520043789</td>\n",
              "      <td>Bert Gold</td>\n",
              "      <td>3013548.0</td>\n",
              "      <td>Frederick, Maryland</td>\n",
              "      <td>NaN</td>\n",
              "      <td>NaN</td>\n",
              "      <td>News</td>\n",
              "      <td>0</td>\n",
              "    </tr>\n",
              "    <tr>\n",
              "      <th>3</th>\n",
              "      <td>1520043788</td>\n",
              "      <td>5a974697410cf7000162e8a4</td>\n",
              "      <td>1207.0</td>\n",
              "      <td>What does it cost in energy to dig up and refi...</td>\n",
              "      <td>26189102.0</td>\n",
              "      <td>26189102.0</td>\n",
              "      <td>&lt;br/&gt;</td>\n",
              "      <td>comment</td>\n",
              "      <td>1.520030e+09</td>\n",
              "      <td>1.0</td>\n",
              "      <td>0</td>\n",
              "      <td>0.0</td>\n",
              "      <td>Business</td>\n",
              "      <td>0.0</td>\n",
              "      <td>NaN</td>\n",
              "      <td>26189102</td>\n",
              "      <td>https://graphics8.nytimes.com/images/apps/time...</td>\n",
              "      <td>1.0</td>\n",
              "      <td>2.0</td>\n",
              "      <td>NaN</td>\n",
              "      <td>0.0</td>\n",
              "      <td>NaN</td>\n",
              "      <td>Economy</td>\n",
              "      <td>0</td>\n",
              "      <td>approved</td>\n",
              "      <td>1.0</td>\n",
              "      <td>0.0</td>\n",
              "      <td>1520043788</td>\n",
              "      <td>James Demers</td>\n",
              "      <td>70245222.0</td>\n",
              "      <td>Brooklyn</td>\n",
              "      <td>NaN</td>\n",
              "      <td>NaN</td>\n",
              "      <td>News</td>\n",
              "      <td>0</td>\n",
              "    </tr>\n",
              "    <tr>\n",
              "      <th>4</th>\n",
              "      <td>1520043787</td>\n",
              "      <td>5a974697410cf7000162e8a4</td>\n",
              "      <td>1207.0</td>\n",
              "      <td>You forgot to mention stock buybacks.</td>\n",
              "      <td>26189683.0</td>\n",
              "      <td>26189683.0</td>\n",
              "      <td>&lt;br/&gt;</td>\n",
              "      <td>comment</td>\n",
              "      <td>1.520033e+09</td>\n",
              "      <td>1.0</td>\n",
              "      <td>0</td>\n",
              "      <td>0.0</td>\n",
              "      <td>Business</td>\n",
              "      <td>0.0</td>\n",
              "      <td>NaN</td>\n",
              "      <td>26189683</td>\n",
              "      <td>https://graphics8.nytimes.com/images/apps/time...</td>\n",
              "      <td>1.0</td>\n",
              "      <td>5.0</td>\n",
              "      <td>NaN</td>\n",
              "      <td>0.0</td>\n",
              "      <td>NaN</td>\n",
              "      <td>Economy</td>\n",
              "      <td>0</td>\n",
              "      <td>approved</td>\n",
              "      <td>1.0</td>\n",
              "      <td>0.0</td>\n",
              "      <td>1520043787</td>\n",
              "      <td>Bill</td>\n",
              "      <td>66424344.0</td>\n",
              "      <td>California</td>\n",
              "      <td>NaN</td>\n",
              "      <td>NaN</td>\n",
              "      <td>News</td>\n",
              "      <td>0</td>\n",
              "    </tr>\n",
              "  </tbody>\n",
              "</table>\n",
              "</div>\n",
              "      <button class=\"colab-df-convert\" onclick=\"convertToInteractive('df-6be69628-e1d7-4606-a27c-310ef2dd53a4')\"\n",
              "              title=\"Convert this dataframe to an interactive table.\"\n",
              "              style=\"display:none;\">\n",
              "        \n",
              "  <svg xmlns=\"http://www.w3.org/2000/svg\" height=\"24px\"viewBox=\"0 0 24 24\"\n",
              "       width=\"24px\">\n",
              "    <path d=\"M0 0h24v24H0V0z\" fill=\"none\"/>\n",
              "    <path d=\"M18.56 5.44l.94 2.06.94-2.06 2.06-.94-2.06-.94-.94-2.06-.94 2.06-2.06.94zm-11 1L8.5 8.5l.94-2.06 2.06-.94-2.06-.94L8.5 2.5l-.94 2.06-2.06.94zm10 10l.94 2.06.94-2.06 2.06-.94-2.06-.94-.94-2.06-.94 2.06-2.06.94z\"/><path d=\"M17.41 7.96l-1.37-1.37c-.4-.4-.92-.59-1.43-.59-.52 0-1.04.2-1.43.59L10.3 9.45l-7.72 7.72c-.78.78-.78 2.05 0 2.83L4 21.41c.39.39.9.59 1.41.59.51 0 1.02-.2 1.41-.59l7.78-7.78 2.81-2.81c.8-.78.8-2.07 0-2.86zM5.41 20L4 18.59l7.72-7.72 1.47 1.35L5.41 20z\"/>\n",
              "  </svg>\n",
              "      </button>\n",
              "      \n",
              "  <style>\n",
              "    .colab-df-container {\n",
              "      display:flex;\n",
              "      flex-wrap:wrap;\n",
              "      gap: 12px;\n",
              "    }\n",
              "\n",
              "    .colab-df-convert {\n",
              "      background-color: #E8F0FE;\n",
              "      border: none;\n",
              "      border-radius: 50%;\n",
              "      cursor: pointer;\n",
              "      display: none;\n",
              "      fill: #1967D2;\n",
              "      height: 32px;\n",
              "      padding: 0 0 0 0;\n",
              "      width: 32px;\n",
              "    }\n",
              "\n",
              "    .colab-df-convert:hover {\n",
              "      background-color: #E2EBFA;\n",
              "      box-shadow: 0px 1px 2px rgba(60, 64, 67, 0.3), 0px 1px 3px 1px rgba(60, 64, 67, 0.15);\n",
              "      fill: #174EA6;\n",
              "    }\n",
              "\n",
              "    [theme=dark] .colab-df-convert {\n",
              "      background-color: #3B4455;\n",
              "      fill: #D2E3FC;\n",
              "    }\n",
              "\n",
              "    [theme=dark] .colab-df-convert:hover {\n",
              "      background-color: #434B5C;\n",
              "      box-shadow: 0px 1px 3px 1px rgba(0, 0, 0, 0.15);\n",
              "      filter: drop-shadow(0px 1px 2px rgba(0, 0, 0, 0.3));\n",
              "      fill: #FFFFFF;\n",
              "    }\n",
              "  </style>\n",
              "\n",
              "      <script>\n",
              "        const buttonEl =\n",
              "          document.querySelector('#df-6be69628-e1d7-4606-a27c-310ef2dd53a4 button.colab-df-convert');\n",
              "        buttonEl.style.display =\n",
              "          google.colab.kernel.accessAllowed ? 'block' : 'none';\n",
              "\n",
              "        async function convertToInteractive(key) {\n",
              "          const element = document.querySelector('#df-6be69628-e1d7-4606-a27c-310ef2dd53a4');\n",
              "          const dataTable =\n",
              "            await google.colab.kernel.invokeFunction('convertToInteractive',\n",
              "                                                     [key], {});\n",
              "          if (!dataTable) return;\n",
              "\n",
              "          const docLinkHtml = 'Like what you see? Visit the ' +\n",
              "            '<a target=\"_blank\" href=https://colab.research.google.com/notebooks/data_table.ipynb>data table notebook</a>'\n",
              "            + ' to learn more about interactive tables.';\n",
              "          element.innerHTML = '';\n",
              "          dataTable['output_type'] = 'display_data';\n",
              "          await google.colab.output.renderOutput(dataTable, element);\n",
              "          const docLink = document.createElement('div');\n",
              "          docLink.innerHTML = docLinkHtml;\n",
              "          element.appendChild(docLink);\n",
              "        }\n",
              "      </script>\n",
              "    </div>\n",
              "  </div>\n",
              "  "
            ],
            "text/plain": [
              "   approveDate                 articleID  ...  typeOfMaterial  y\n",
              "0   1520043821  5a974697410cf7000162e8a4  ...            News  0\n",
              "1   1520043790  5a974697410cf7000162e8a4  ...            News  0\n",
              "2   1520043789  5a974697410cf7000162e8a4  ...            News  0\n",
              "3   1520043788  5a974697410cf7000162e8a4  ...            News  0\n",
              "4   1520043787  5a974697410cf7000162e8a4  ...            News  0\n",
              "\n",
              "[5 rows x 35 columns]"
            ]
          },
          "metadata": {},
          "execution_count": 24
        }
      ]
    },
    {
      "cell_type": "code",
      "metadata": {
        "colab": {
          "base_uri": "https://localhost:8080/"
        },
        "id": "UECW1Bt0-08r",
        "outputId": "a4bc3cb5-fd03-427f-92aa-fc866ff64ca0"
      },
      "source": [
        "comments['y'].value_counts()"
      ],
      "execution_count": null,
      "outputs": [
        {
          "output_type": "execute_result",
          "data": {
            "text/plain": [
              "0    2151138\n",
              "1      25226\n",
              "Name: y, dtype: int64"
            ]
          },
          "metadata": {},
          "execution_count": 25
        }
      ]
    },
    {
      "cell_type": "code",
      "metadata": {
        "colab": {
          "base_uri": "https://localhost:8080/"
        },
        "id": "JZrlaox6AEDY",
        "outputId": "eded3546-4b21-4e35-ac71-bf3057886fb9"
      },
      "source": [
        "comments.shape"
      ],
      "execution_count": null,
      "outputs": [
        {
          "output_type": "execute_result",
          "data": {
            "text/plain": [
              "(2176364, 35)"
            ]
          },
          "metadata": {},
          "execution_count": 26
        }
      ]
    },
    {
      "cell_type": "code",
      "source": [
        "#Filter only users' comments (not replies from other users or reporter)\n",
        "comments = comments.loc[comments['commentType'] == 'comment']"
      ],
      "metadata": {
        "id": "G6lUr_-RwIl5"
      },
      "execution_count": null,
      "outputs": []
    },
    {
      "cell_type": "code",
      "metadata": {
        "colab": {
          "base_uri": "https://localhost:8080/"
        },
        "id": "m-EjkJlLA7z7",
        "outputId": "42f8344f-1afc-4297-8fa9-08099a3afcae"
      },
      "source": [
        "comments.shape"
      ],
      "execution_count": null,
      "outputs": [
        {
          "output_type": "execute_result",
          "data": {
            "text/plain": [
              "(1595760, 35)"
            ]
          },
          "metadata": {},
          "execution_count": 28
        }
      ]
    },
    {
      "cell_type": "code",
      "metadata": {
        "id": "lo2Fz6h9_EbT"
      },
      "source": [
        "X = comments[['articleWordCount', 'printPage', 'sharing', 'trusted']]\n",
        "y = comments['y']"
      ],
      "execution_count": null,
      "outputs": []
    },
    {
      "cell_type": "code",
      "metadata": {
        "id": "MBUum_oLCL5n"
      },
      "source": [
        "from sklearn.linear_model import LogisticRegression\n",
        "from sklearn.model_selection import train_test_split\n",
        "import matplotlib.pyplot as plt"
      ],
      "execution_count": null,
      "outputs": []
    },
    {
      "cell_type": "code",
      "metadata": {
        "id": "lUCdGUiCCL78"
      },
      "source": [
        "#Split the data into training and test sets\n",
        "X_train, X_test, y_train, y_test = train_test_split(X, y, test_size=0.25, random_state=0)"
      ],
      "execution_count": null,
      "outputs": []
    },
    {
      "cell_type": "code",
      "source": [
        "X_train.shape, X_test.shape, y_train.shape, y_test.shape"
      ],
      "metadata": {
        "colab": {
          "base_uri": "https://localhost:8080/"
        },
        "id": "bXmd8Am5fH38",
        "outputId": "857b2dce-959b-46cb-a75c-140771c71a33"
      },
      "execution_count": null,
      "outputs": [
        {
          "output_type": "execute_result",
          "data": {
            "text/plain": [
              "((1196820, 4), (398940, 4), (1196820,), (398940,))"
            ]
          },
          "metadata": {},
          "execution_count": 34
        }
      ]
    },
    {
      "cell_type": "code",
      "metadata": {
        "id": "uD4kIcmkCL-Z",
        "colab": {
          "base_uri": "https://localhost:8080/"
        },
        "outputId": "f5027223-a5c8-4ee4-9ffc-51a16508601b"
      },
      "source": [
        "#Train a logistic regression classifier\n",
        "lr_clf = LogisticRegression(random_state=40)\n",
        "lr_clf.fit(X_train, y_train)"
      ],
      "execution_count": null,
      "outputs": [
        {
          "output_type": "execute_result",
          "data": {
            "text/plain": [
              "LogisticRegression(random_state=40)"
            ]
          },
          "metadata": {},
          "execution_count": 35
        }
      ]
    },
    {
      "cell_type": "code",
      "metadata": {
        "id": "F0txRo_MCMA7",
        "colab": {
          "base_uri": "https://localhost:8080/"
        },
        "outputId": "ef3d5b71-c487-489d-905b-61e0809b6c0d"
      },
      "source": [
        "#Make a prediction for the whole dataset\n",
        "pred = lr_clf.predict(X)\n",
        "print(len(pred))\n",
        "print(len(X))"
      ],
      "execution_count": null,
      "outputs": [
        {
          "output_type": "stream",
          "name": "stdout",
          "text": [
            "1595760\n",
            "1595760\n"
          ]
        }
      ]
    },
    {
      "cell_type": "code",
      "metadata": {
        "id": "5MA7E8wgCmIc",
        "colab": {
          "base_uri": "https://localhost:8080/"
        },
        "outputId": "d24a1df0-630a-4faf-b5ae-138bdc5bff30"
      },
      "source": [
        "#Make a prediction for the test set\n",
        "y_pred = lr_clf.predict(X_test)\n",
        "print('Accuracy of the logistic regression classifier on test set: {:.2f}'.format(lr_clf.score(X_test, y_test))) #0.98"
      ],
      "execution_count": null,
      "outputs": [
        {
          "output_type": "stream",
          "name": "stdout",
          "text": [
            "Accuracy of the logistic regression classifier on test set: 0.98\n"
          ]
        }
      ]
    },
    {
      "cell_type": "code",
      "source": [
        "print(np.count_nonzero(y_pred == 0))\n",
        "print(np.count_nonzero(y_pred == 1))"
      ],
      "metadata": {
        "colab": {
          "base_uri": "https://localhost:8080/"
        },
        "id": "i7LclnlXjgSb",
        "outputId": "fceb8b32-3c5e-4a2c-bf41-583a524ebbaa"
      },
      "execution_count": null,
      "outputs": [
        {
          "output_type": "stream",
          "name": "stdout",
          "text": [
            "398940\n",
            "0\n"
          ]
        }
      ]
    },
    {
      "cell_type": "code",
      "source": [
        "print(np.count_nonzero(y_test == 0))\n",
        "print(np.count_nonzero(y_test == 1))"
      ],
      "metadata": {
        "colab": {
          "base_uri": "https://localhost:8080/"
        },
        "id": "j0gnBnqhk_Pm",
        "outputId": "2073ef86-cbc8-483d-bcef-8d3f09adb681"
      },
      "execution_count": null,
      "outputs": [
        {
          "output_type": "stream",
          "name": "stdout",
          "text": [
            "392610\n",
            "6330\n"
          ]
        }
      ]
    },
    {
      "cell_type": "code",
      "source": [
        "print(np.count_nonzero(y_train == 0))\n",
        "print(np.count_nonzero(y_train == 1))"
      ],
      "metadata": {
        "colab": {
          "base_uri": "https://localhost:8080/"
        },
        "id": "uGCoaRNHnPBQ",
        "outputId": "7f0dbc2a-8742-46aa-ff50-446f89e20952"
      },
      "execution_count": null,
      "outputs": [
        {
          "output_type": "stream",
          "name": "stdout",
          "text": [
            "1178002\n",
            "18818\n"
          ]
        }
      ]
    },
    {
      "cell_type": "code",
      "source": [
        "from sklearn.metrics import confusion_matrix\n",
        "from sklearn.metrics import ConfusionMatrixDisplay"
      ],
      "metadata": {
        "id": "TxQOqWd4D3mw"
      },
      "execution_count": null,
      "outputs": []
    },
    {
      "cell_type": "code",
      "source": [
        "#Plotting the Confusion matrix \n",
        "\n",
        "title = \"Confusion Matrix\"\n",
        "\n",
        "disp = ConfusionMatrixDisplay.from_estimator(\n",
        "        lr_clf,\n",
        "        X_test,\n",
        "        y_test,\n",
        "        cmap=plt.cm.Blues\n",
        "    )\n",
        "disp.ax_.set_title(title)\n",
        "\n",
        "plt.show()"
      ],
      "metadata": {
        "colab": {
          "base_uri": "https://localhost:8080/",
          "height": 295
        },
        "id": "_mB3Yt7ohDCc",
        "outputId": "5c81e980-2612-40d9-9657-1608c1d485af"
      },
      "execution_count": null,
      "outputs": [
        {
          "output_type": "display_data",
          "data": {
            "image/png": "[encoded data removed]",
            "text/plain": [
              "<Figure size 432x288 with 2 Axes>"
            ]
          },
          "metadata": {
            "needs_background": "light"
          }
        }
      ]
    },
    {
      "cell_type": "code",
      "source": [
        "from sklearn.metrics import classification_report"
      ],
      "metadata": {
        "id": "ud8Zi9csEYYR"
      },
      "execution_count": null,
      "outputs": []
    },
    {
      "cell_type": "code",
      "metadata": {
        "id": "wWoVcSDpCmMp",
        "colab": {
          "base_uri": "https://localhost:8080/"
        },
        "outputId": "ae283910-d498-4f47-e575-08dec7e37fab"
      },
      "source": [
        "print(classification_report(y_test, y_pred))"
      ],
      "execution_count": null,
      "outputs": [
        {
          "output_type": "stream",
          "name": "stderr",
          "text": [
            "/usr/local/lib/python3.7/dist-packages/sklearn/metrics/_classification.py:1308: UndefinedMetricWarning: Precision and F-score are ill-defined and being set to 0.0 in labels with no predicted samples. Use `zero_division` parameter to control this behavior.\n",
            "  _warn_prf(average, modifier, msg_start, len(result))\n"
          ]
        },
        {
          "output_type": "stream",
          "name": "stdout",
          "text": [
            "              precision    recall  f1-score   support\n",
            "\n",
            "           0       0.98      1.00      0.99    392610\n",
            "           1       0.00      0.00      0.00      6330\n",
            "\n",
            "    accuracy                           0.98    398940\n",
            "   macro avg       0.49      0.50      0.50    398940\n",
            "weighted avg       0.97      0.98      0.98    398940\n",
            "\n"
          ]
        },
        {
          "output_type": "stream",
          "name": "stderr",
          "text": [
            "/usr/local/lib/python3.7/dist-packages/sklearn/metrics/_classification.py:1308: UndefinedMetricWarning: Precision and F-score are ill-defined and being set to 0.0 in labels with no predicted samples. Use `zero_division` parameter to control this behavior.\n",
            "  _warn_prf(average, modifier, msg_start, len(result))\n",
            "/usr/local/lib/python3.7/dist-packages/sklearn/metrics/_classification.py:1308: UndefinedMetricWarning: Precision and F-score are ill-defined and being set to 0.0 in labels with no predicted samples. Use `zero_division` parameter to control this behavior.\n",
            "  _warn_prf(average, modifier, msg_start, len(result))\n"
          ]
        }
      ]
    },
    {
      "cell_type": "code",
      "source": [
        "from sklearn.metrics import roc_auc_score\n",
        "from sklearn.metrics import roc_curve"
      ],
      "metadata": {
        "id": "W7q_Cq_VE55l"
      },
      "execution_count": null,
      "outputs": []
    },
    {
      "cell_type": "code",
      "metadata": {
        "id": "7P2gJW6jR74_",
        "colab": {
          "base_uri": "https://localhost:8080/",
          "height": 295
        },
        "outputId": "1f080cbd-f013-4254-e6da-c8a4de6f91a0"
      },
      "source": [
        "lr_roc_auc = roc_auc_score(y_test, lr_clf.predict(X_test))\n",
        "fpr, tpr, thresholds = roc_curve(y_test, lr_clf.predict_proba(X_test)[:,1])\n",
        "plt.figure()\n",
        "plt.plot(fpr, tpr, label='Logistic Regression (area = %0.2f)' % lr_roc_auc)\n",
        "plt.plot([0, 1], [0, 1],'r--')\n",
        "plt.xlim([0.0, 1.0])\n",
        "plt.ylim([0.0, 1.05])\n",
        "plt.xlabel('False Positive Rate')\n",
        "plt.ylabel('True Positive Rate')\n",
        "plt.title('Receiver Operating Characteristic')\n",
        "plt.legend(loc=\"lower right\")\n",
        "plt.show()\n",
        "\n",
        "#AUC=0.5"
      ],
      "execution_count": null,
      "outputs": [
        {
          "output_type": "display_data",
          "data": {
            "image/png": "[encoded data removed]",
            "text/plain": [
              "<Figure size 432x288 with 1 Axes>"
            ]
          },
          "metadata": {
            "needs_background": "light"
          }
        }
      ]
    },
    {
      "cell_type": "code",
      "source": [
        "comments['y'].value_counts()"
      ],
      "metadata": {
        "colab": {
          "base_uri": "https://localhost:8080/"
        },
        "id": "t7UMHRrtchGi",
        "outputId": "13ccbb22-ffed-4ed7-e62e-7c54bf59eaaf"
      },
      "execution_count": null,
      "outputs": [
        {
          "output_type": "execute_result",
          "data": {
            "text/plain": [
              "0    1570612\n",
              "1      25148\n",
              "Name: y, dtype: int64"
            ]
          },
          "metadata": {},
          "execution_count": 75
        }
      ]
    },
    {
      "cell_type": "code",
      "source": [
        "#Check the distribution (the dataset is highly unbalanced)\n",
        "comments['y'].value_counts()/comments.shape[0]"
      ],
      "metadata": {
        "id": "-5tyHXOdcovi",
        "outputId": "71dbc7bc-013d-4777-cedd-9ba03cf54114",
        "colab": {
          "base_uri": "https://localhost:8080/"
        }
      },
      "execution_count": null,
      "outputs": [
        {
          "output_type": "execute_result",
          "data": {
            "text/plain": [
              "0    0.984241\n",
              "1    0.015759\n",
              "Name: y, dtype: float64"
            ]
          },
          "metadata": {},
          "execution_count": 76
        }
      ]
    },
    {
      "cell_type": "code",
      "source": [
        "#Define weigths\n",
        "w = {0:2, 1:98}"
      ],
      "metadata": {
        "id": "dqeYjP3Rsy1B"
      },
      "execution_count": null,
      "outputs": []
    },
    {
      "cell_type": "code",
      "source": [
        "#Train another logistic regression classifier with appropriate weigths in order to counteract the unbalanced distribution of the target variable\n",
        "lr_clf2 = LogisticRegression(random_state=40, class_weight=w)\n",
        "lr_clf2.fit(X_train, y_train)"
      ],
      "metadata": {
        "colab": {
          "base_uri": "https://localhost:8080/"
        },
        "id": "7dNp6NCmsy3b",
        "outputId": "363c0c51-c9e2-4d81-feec-318ae358e60f"
      },
      "execution_count": null,
      "outputs": [
        {
          "output_type": "execute_result",
          "data": {
            "text/plain": [
              "LogisticRegression(class_weight={0: 2, 1: 98}, random_state=40)"
            ]
          },
          "metadata": {},
          "execution_count": 52
        }
      ]
    },
    {
      "cell_type": "code",
      "source": [
        "#Make a prediction for the whole dataset\n",
        "pred2 = lr_clf2.predict(X)\n",
        "print(len(pred2))\n",
        "print(len(X))"
      ],
      "metadata": {
        "colab": {
          "base_uri": "https://localhost:8080/"
        },
        "id": "mJ7N9oiIsy6F",
        "outputId": "62ef6d10-dd2c-4dfa-fbf3-2109ee99e42b"
      },
      "execution_count": null,
      "outputs": [
        {
          "output_type": "stream",
          "name": "stdout",
          "text": [
            "1595760\n",
            "1595760\n"
          ]
        }
      ]
    },
    {
      "cell_type": "code",
      "source": [
        "#Make a prediction only for the test set\n",
        "y_pred2 = lr_clf2.predict(X_test)\n",
        "print('Accuracy of the logistic regression classifier on test set: {:.2f}'.format(lr_clf.score(X_test, y_test))) #0.98"
      ],
      "metadata": {
        "colab": {
          "base_uri": "https://localhost:8080/"
        },
        "id": "j4LatQyFtHT7",
        "outputId": "6623057f-6ecb-44da-80cf-f829b2a67a37"
      },
      "execution_count": null,
      "outputs": [
        {
          "output_type": "stream",
          "name": "stdout",
          "text": [
            "Accuracy of the logistic regression classifier on test set: 0.98\n"
          ]
        }
      ]
    },
    {
      "cell_type": "code",
      "source": [
        "print(np.count_nonzero(y_pred2 == 0))\n",
        "print(np.count_nonzero(y_pred2 == 1))"
      ],
      "metadata": {
        "colab": {
          "base_uri": "https://localhost:8080/"
        },
        "id": "bltruyG9tHWR",
        "outputId": "d018b3e7-75ed-466e-ea35-6a13d4186999"
      },
      "execution_count": null,
      "outputs": [
        {
          "output_type": "stream",
          "name": "stdout",
          "text": [
            "393372\n",
            "5568\n"
          ]
        }
      ]
    },
    {
      "cell_type": "code",
      "source": [
        "title = \"Confusion Matrix for Weighted Logistic Regression\"\n",
        "\n",
        "disp = ConfusionMatrixDisplay.from_estimator(\n",
        "        lr_clf2,\n",
        "        X_test,\n",
        "        y_test,\n",
        "        cmap=plt.cm.Blues\n",
        "    )\n",
        "disp.ax_.set_title(title)\n",
        "\n",
        "plt.show()"
      ],
      "metadata": {
        "colab": {
          "base_uri": "https://localhost:8080/",
          "height": 295
        },
        "id": "st9LBHN4tHYp",
        "outputId": "2f3d5226-9381-40d6-b793-9a8a71e39a40"
      },
      "execution_count": null,
      "outputs": [
        {
          "output_type": "display_data",
          "data": {
            "image/png": "[encoded data removed]",
            "text/plain": [
              "<Figure size 432x288 with 2 Axes>"
            ]
          },
          "metadata": {
            "needs_background": "light"
          }
        }
      ]
    },
    {
      "cell_type": "code",
      "source": [
        "print(classification_report(y_test, y_pred2))"
      ],
      "metadata": {
        "colab": {
          "base_uri": "https://localhost:8080/"
        },
        "id": "MnycBATltHbT",
        "outputId": "72437480-abe4-44d8-9f1f-0dac4d6cbe4e"
      },
      "execution_count": null,
      "outputs": [
        {
          "output_type": "stream",
          "name": "stdout",
          "text": [
            "              precision    recall  f1-score   support\n",
            "\n",
            "           0       0.98      0.99      0.99    392610\n",
            "           1       0.01      0.01      0.01      6330\n",
            "\n",
            "    accuracy                           0.97    398940\n",
            "   macro avg       0.50      0.50      0.50    398940\n",
            "weighted avg       0.97      0.97      0.97    398940\n",
            "\n"
          ]
        }
      ]
    },
    {
      "cell_type": "code",
      "source": [
        "lr_roc_auc2 = roc_auc_score(y_test, lr_clf2.predict(X_test))\n",
        "fpr, tpr, thresholds = roc_curve(y_test, lr_clf2.predict_proba(X_test)[:,1])\n",
        "plt.figure()\n",
        "plt.plot(fpr, tpr, label='Weighted Logistic Regression (area = %0.2f)' % lr_roc_auc2)\n",
        "plt.plot([0, 1], [0, 1],'r--')\n",
        "plt.xlim([0.0, 1.0])\n",
        "plt.ylim([0.0, 1.05])\n",
        "plt.xlabel('False Positive Rate')\n",
        "plt.ylabel('True Positive Rate')\n",
        "plt.title('Receiver Operating Characteristic')\n",
        "plt.legend(loc=\"lower right\")\n",
        "plt.show()\n",
        "\n",
        "#AUC=0.5"
      ],
      "metadata": {
        "colab": {
          "base_uri": "https://localhost:8080/",
          "height": 295
        },
        "id": "sBFZZ-xZtHdT",
        "outputId": "8cf81fd5-8037-4be9-cf9f-e9c39566a8c1"
      },
      "execution_count": null,
      "outputs": [
        {
          "output_type": "display_data",
          "data": {
            "image/png": "[encoded data removed]",
            "text/plain": [
              "<Figure size 432x288 with 1 Axes>"
            ]
          },
          "metadata": {
            "needs_background": "light"
          }
        }
      ]
    },
    {
      "cell_type": "markdown",
      "source": [
        "###Random Forest"
      ],
      "metadata": {
        "id": "UBA-feckkIWj"
      }
    },
    {
      "cell_type": "code",
      "source": [
        "from sklearn.ensemble import RandomForestClassifier"
      ],
      "metadata": {
        "id": "srIpz7SV8d9W"
      },
      "execution_count": null,
      "outputs": []
    },
    {
      "cell_type": "code",
      "source": [
        "rf_clf = RandomForestClassifier(random_state=40, class_weight=w) #weighted random forest\n",
        "rf_clf.fit(X_train, y_train)"
      ],
      "metadata": {
        "colab": {
          "base_uri": "https://localhost:8080/"
        },
        "id": "DnleegYz8eCZ",
        "outputId": "b9be97e0-8cc1-4cc6-e754-89fecad705cb"
      },
      "execution_count": null,
      "outputs": [
        {
          "output_type": "execute_result",
          "data": {
            "text/plain": [
              "RandomForestClassifier(class_weight={0: 2, 1: 98}, random_state=40)"
            ]
          },
          "metadata": {},
          "execution_count": 61
        }
      ]
    },
    {
      "cell_type": "code",
      "source": [
        "#Make a prediction for the whole dataset\n",
        "pred_rf = rf_clf.predict(X)\n",
        "print(len(pred_rf))\n",
        "print(len(X))"
      ],
      "metadata": {
        "colab": {
          "base_uri": "https://localhost:8080/"
        },
        "id": "IuROD99k8eD9",
        "outputId": "01cbc8a2-2725-4409-b287-eda5827e7bb4"
      },
      "execution_count": null,
      "outputs": [
        {
          "output_type": "stream",
          "name": "stdout",
          "text": [
            "1595760\n",
            "1595760\n"
          ]
        }
      ]
    },
    {
      "cell_type": "code",
      "source": [
        "#Make a prediction only for the test set\n",
        "y_pred_rf = rf_clf.predict(X_test)\n",
        "print('Accuracy of the random forest classifier on test set: {:.2f}'.format(rf_clf.score(X_test, y_test))) #0.75"
      ],
      "metadata": {
        "colab": {
          "base_uri": "https://localhost:8080/"
        },
        "id": "fPALGY5R-Yf5",
        "outputId": "6532e80d-6da8-4215-d0a0-e6f8a2927713"
      },
      "execution_count": null,
      "outputs": [
        {
          "output_type": "stream",
          "name": "stdout",
          "text": [
            "Accuracy of the random forest classifier on test set: 0.75\n"
          ]
        }
      ]
    },
    {
      "cell_type": "code",
      "source": [
        "print(np.count_nonzero(y_pred_rf == 0))\n",
        "print(np.count_nonzero(y_pred_rf == 1))"
      ],
      "metadata": {
        "colab": {
          "base_uri": "https://localhost:8080/"
        },
        "id": "uXoUVIKy-Yha",
        "outputId": "0f58936d-248e-430b-f1f1-a0231e270487"
      },
      "execution_count": null,
      "outputs": [
        {
          "output_type": "stream",
          "name": "stdout",
          "text": [
            "300720\n",
            "98220\n"
          ]
        }
      ]
    },
    {
      "cell_type": "code",
      "source": [
        "title = \"Confusion Matrix for Weighted Random Forest\"\n",
        "\n",
        "disp = ConfusionMatrixDisplay.from_estimator(\n",
        "        rf_clf,\n",
        "        X_test,\n",
        "        y_test,\n",
        "        cmap=plt.cm.Blues\n",
        "    )\n",
        "disp.ax_.set_title(title)\n",
        "\n",
        "plt.show()"
      ],
      "metadata": {
        "colab": {
          "base_uri": "https://localhost:8080/",
          "height": 295
        },
        "id": "2efu5-Lp-Yl6",
        "outputId": "429df7b1-f599-4f7d-ba89-bda27a031a50"
      },
      "execution_count": null,
      "outputs": [
        {
          "output_type": "display_data",
          "data": {
            "image/png": "[encoded data removed]",
            "text/plain": [
              "<Figure size 432x288 with 2 Axes>"
            ]
          },
          "metadata": {
            "needs_background": "light"
          }
        }
      ]
    },
    {
      "cell_type": "code",
      "source": [
        "print(classification_report(y_test, y_pred_rf))"
      ],
      "metadata": {
        "colab": {
          "base_uri": "https://localhost:8080/"
        },
        "id": "kghKh43r-Ynh",
        "outputId": "55bc7cd7-f49a-477b-dff1-124f9a4535ed"
      },
      "execution_count": null,
      "outputs": [
        {
          "output_type": "stream",
          "name": "stdout",
          "text": [
            "              precision    recall  f1-score   support\n",
            "\n",
            "           0       0.99      0.76      0.86    392610\n",
            "           1       0.03      0.39      0.05      6330\n",
            "\n",
            "    accuracy                           0.75    398940\n",
            "   macro avg       0.51      0.58      0.45    398940\n",
            "weighted avg       0.97      0.75      0.84    398940\n",
            "\n"
          ]
        }
      ]
    },
    {
      "cell_type": "code",
      "source": [
        "rf_roc_auc = roc_auc_score(y_test, rf_clf.predict(X_test))\n",
        "fpr, tpr, thresholds = roc_curve(y_test, rf_clf.predict_proba(X_test)[:,1])\n",
        "plt.figure()\n",
        "plt.plot(fpr, tpr, label='Weighted Random Forest (area = %0.2f)' % rf_roc_auc)\n",
        "plt.plot([0, 1], [0, 1],'r--')\n",
        "plt.xlim([0.0, 1.0])\n",
        "plt.ylim([0.0, 1.05])\n",
        "plt.xlabel('False Positive Rate')\n",
        "plt.ylabel('True Positive Rate')\n",
        "plt.title('Receiver Operating Characteristic')\n",
        "plt.legend(loc=\"lower right\")\n",
        "plt.show()\n",
        "\n",
        "#AUC=0.58"
      ],
      "metadata": {
        "colab": {
          "base_uri": "https://localhost:8080/",
          "height": 295
        },
        "id": "E90MNWMo-7L5",
        "outputId": "4fafa9b3-5d90-4b89-a653-04f69b0f4072"
      },
      "execution_count": null,
      "outputs": [
        {
          "output_type": "display_data",
          "data": {
            "image/png": "[encoded data removed]",
            "text/plain": [
              "<Figure size 432x288 with 1 Axes>"
            ]
          },
          "metadata": {
            "needs_background": "light"
          }
        }
      ]
    },
    {
      "cell_type": "code",
      "source": [
        "#Add a new column with the predictions of the best model obtained so far (weighted random forest model)\n",
        "comments['predicted'] = pred_rf\n",
        "comments.head()"
      ],
      "metadata": {
        "colab": {
          "base_uri": "https://localhost:8080/",
          "height": 548
        },
        "id": "TVL_cnQuZTAX",
        "outputId": "11b79316-b5d2-475c-f5c9-268c059dac21"
      },
      "execution_count": null,
      "outputs": [
        {
          "output_type": "execute_result",
          "data": {
            "text/html": [
              "\n",
              "  <div id=\"df-51c15aa2-79db-4f65-82c3-2c526194c770\">\n",
              "    <div class=\"colab-df-container\">\n",
              "      <div>\n",
              "<style scoped>\n",
              "    .dataframe tbody tr th:only-of-type {\n",
              "        vertical-align: middle;\n",
              "    }\n",
              "\n",
              "    .dataframe tbody tr th {\n",
              "        vertical-align: top;\n",
              "    }\n",
              "\n",
              "    .dataframe thead th {\n",
              "        text-align: right;\n",
              "    }\n",
              "</style>\n",
              "<table border=\"1\" class=\"dataframe\">\n",
              "  <thead>\n",
              "    <tr style=\"text-align: right;\">\n",
              "      <th></th>\n",
              "      <th>approveDate</th>\n",
              "      <th>articleID</th>\n",
              "      <th>articleWordCount</th>\n",
              "      <th>commentBody</th>\n",
              "      <th>commentID</th>\n",
              "      <th>commentSequence</th>\n",
              "      <th>commentTitle</th>\n",
              "      <th>commentType</th>\n",
              "      <th>createDate</th>\n",
              "      <th>depth</th>\n",
              "      <th>editorsSelection</th>\n",
              "      <th>inReplyTo</th>\n",
              "      <th>newDesk</th>\n",
              "      <th>parentID</th>\n",
              "      <th>parentUserDisplayName</th>\n",
              "      <th>permID</th>\n",
              "      <th>picURL</th>\n",
              "      <th>printPage</th>\n",
              "      <th>recommendations</th>\n",
              "      <th>recommendedFlag</th>\n",
              "      <th>replyCount</th>\n",
              "      <th>reportAbuseFlag</th>\n",
              "      <th>sectionName</th>\n",
              "      <th>sharing</th>\n",
              "      <th>status</th>\n",
              "      <th>timespeople</th>\n",
              "      <th>trusted</th>\n",
              "      <th>updateDate</th>\n",
              "      <th>userDisplayName</th>\n",
              "      <th>userID</th>\n",
              "      <th>userLocation</th>\n",
              "      <th>userTitle</th>\n",
              "      <th>userURL</th>\n",
              "      <th>typeOfMaterial</th>\n",
              "      <th>y</th>\n",
              "      <th>predicted</th>\n",
              "    </tr>\n",
              "  </thead>\n",
              "  <tbody>\n",
              "    <tr>\n",
              "      <th>0</th>\n",
              "      <td>1520043821</td>\n",
              "      <td>5a974697410cf7000162e8a4</td>\n",
              "      <td>1207.0</td>\n",
              "      <td>If the choice is between mining for bitcoin - ...</td>\n",
              "      <td>26188943.0</td>\n",
              "      <td>26188943.0</td>\n",
              "      <td>&lt;br/&gt;</td>\n",
              "      <td>comment</td>\n",
              "      <td>1.520029e+09</td>\n",
              "      <td>1.0</td>\n",
              "      <td>0</td>\n",
              "      <td>0.0</td>\n",
              "      <td>Business</td>\n",
              "      <td>0.0</td>\n",
              "      <td>NaN</td>\n",
              "      <td>26188943</td>\n",
              "      <td>https://s3.amazonaws.com/pimage.timespeople.ny...</td>\n",
              "      <td>1.0</td>\n",
              "      <td>10.0</td>\n",
              "      <td>NaN</td>\n",
              "      <td>0.0</td>\n",
              "      <td>NaN</td>\n",
              "      <td>Economy</td>\n",
              "      <td>1</td>\n",
              "      <td>approved</td>\n",
              "      <td>1.0</td>\n",
              "      <td>0.0</td>\n",
              "      <td>1520043821</td>\n",
              "      <td>Steve</td>\n",
              "      <td>46903103.0</td>\n",
              "      <td>Florida</td>\n",
              "      <td>NaN</td>\n",
              "      <td>NaN</td>\n",
              "      <td>News</td>\n",
              "      <td>0</td>\n",
              "      <td>0</td>\n",
              "    </tr>\n",
              "    <tr>\n",
              "      <th>1</th>\n",
              "      <td>1520043790</td>\n",
              "      <td>5a974697410cf7000162e8a4</td>\n",
              "      <td>1207.0</td>\n",
              "      <td>&lt;br/&gt;To me, Bitcoin (et al) appears to be an e...</td>\n",
              "      <td>26189292.0</td>\n",
              "      <td>26189292.0</td>\n",
              "      <td>&lt;br/&gt;</td>\n",
              "      <td>comment</td>\n",
              "      <td>1.520031e+09</td>\n",
              "      <td>1.0</td>\n",
              "      <td>0</td>\n",
              "      <td>0.0</td>\n",
              "      <td>Business</td>\n",
              "      <td>0.0</td>\n",
              "      <td>NaN</td>\n",
              "      <td>26189292</td>\n",
              "      <td>https://graphics8.nytimes.com/images/apps/time...</td>\n",
              "      <td>1.0</td>\n",
              "      <td>8.0</td>\n",
              "      <td>NaN</td>\n",
              "      <td>0.0</td>\n",
              "      <td>NaN</td>\n",
              "      <td>Economy</td>\n",
              "      <td>0</td>\n",
              "      <td>approved</td>\n",
              "      <td>1.0</td>\n",
              "      <td>0.0</td>\n",
              "      <td>1520043790</td>\n",
              "      <td>MyOpinion</td>\n",
              "      <td>82778.0</td>\n",
              "      <td>NYC</td>\n",
              "      <td>NaN</td>\n",
              "      <td>NaN</td>\n",
              "      <td>News</td>\n",
              "      <td>0</td>\n",
              "      <td>1</td>\n",
              "    </tr>\n",
              "    <tr>\n",
              "      <th>2</th>\n",
              "      <td>1520043789</td>\n",
              "      <td>5a974697410cf7000162e8a4</td>\n",
              "      <td>1207.0</td>\n",
              "      <td>Bitcoin is a pyramid scheme backed by nothing ...</td>\n",
              "      <td>26189645.0</td>\n",
              "      <td>26189645.0</td>\n",
              "      <td>&lt;br/&gt;</td>\n",
              "      <td>comment</td>\n",
              "      <td>1.520033e+09</td>\n",
              "      <td>1.0</td>\n",
              "      <td>0</td>\n",
              "      <td>0.0</td>\n",
              "      <td>Business</td>\n",
              "      <td>0.0</td>\n",
              "      <td>NaN</td>\n",
              "      <td>26189645</td>\n",
              "      <td>https://graphics8.nytimes.com/images/apps/time...</td>\n",
              "      <td>1.0</td>\n",
              "      <td>13.0</td>\n",
              "      <td>NaN</td>\n",
              "      <td>0.0</td>\n",
              "      <td>NaN</td>\n",
              "      <td>Economy</td>\n",
              "      <td>0</td>\n",
              "      <td>approved</td>\n",
              "      <td>1.0</td>\n",
              "      <td>0.0</td>\n",
              "      <td>1520043789</td>\n",
              "      <td>Bert Gold</td>\n",
              "      <td>3013548.0</td>\n",
              "      <td>Frederick, Maryland</td>\n",
              "      <td>NaN</td>\n",
              "      <td>NaN</td>\n",
              "      <td>News</td>\n",
              "      <td>0</td>\n",
              "      <td>1</td>\n",
              "    </tr>\n",
              "    <tr>\n",
              "      <th>3</th>\n",
              "      <td>1520043788</td>\n",
              "      <td>5a974697410cf7000162e8a4</td>\n",
              "      <td>1207.0</td>\n",
              "      <td>What does it cost in energy to dig up and refi...</td>\n",
              "      <td>26189102.0</td>\n",
              "      <td>26189102.0</td>\n",
              "      <td>&lt;br/&gt;</td>\n",
              "      <td>comment</td>\n",
              "      <td>1.520030e+09</td>\n",
              "      <td>1.0</td>\n",
              "      <td>0</td>\n",
              "      <td>0.0</td>\n",
              "      <td>Business</td>\n",
              "      <td>0.0</td>\n",
              "      <td>NaN</td>\n",
              "      <td>26189102</td>\n",
              "      <td>https://graphics8.nytimes.com/images/apps/time...</td>\n",
              "      <td>1.0</td>\n",
              "      <td>2.0</td>\n",
              "      <td>NaN</td>\n",
              "      <td>0.0</td>\n",
              "      <td>NaN</td>\n",
              "      <td>Economy</td>\n",
              "      <td>0</td>\n",
              "      <td>approved</td>\n",
              "      <td>1.0</td>\n",
              "      <td>0.0</td>\n",
              "      <td>1520043788</td>\n",
              "      <td>James Demers</td>\n",
              "      <td>70245222.0</td>\n",
              "      <td>Brooklyn</td>\n",
              "      <td>NaN</td>\n",
              "      <td>NaN</td>\n",
              "      <td>News</td>\n",
              "      <td>0</td>\n",
              "      <td>1</td>\n",
              "    </tr>\n",
              "    <tr>\n",
              "      <th>4</th>\n",
              "      <td>1520043787</td>\n",
              "      <td>5a974697410cf7000162e8a4</td>\n",
              "      <td>1207.0</td>\n",
              "      <td>You forgot to mention stock buybacks.</td>\n",
              "      <td>26189683.0</td>\n",
              "      <td>26189683.0</td>\n",
              "      <td>&lt;br/&gt;</td>\n",
              "      <td>comment</td>\n",
              "      <td>1.520033e+09</td>\n",
              "      <td>1.0</td>\n",
              "      <td>0</td>\n",
              "      <td>0.0</td>\n",
              "      <td>Business</td>\n",
              "      <td>0.0</td>\n",
              "      <td>NaN</td>\n",
              "      <td>26189683</td>\n",
              "      <td>https://graphics8.nytimes.com/images/apps/time...</td>\n",
              "      <td>1.0</td>\n",
              "      <td>5.0</td>\n",
              "      <td>NaN</td>\n",
              "      <td>0.0</td>\n",
              "      <td>NaN</td>\n",
              "      <td>Economy</td>\n",
              "      <td>0</td>\n",
              "      <td>approved</td>\n",
              "      <td>1.0</td>\n",
              "      <td>0.0</td>\n",
              "      <td>1520043787</td>\n",
              "      <td>Bill</td>\n",
              "      <td>66424344.0</td>\n",
              "      <td>California</td>\n",
              "      <td>NaN</td>\n",
              "      <td>NaN</td>\n",
              "      <td>News</td>\n",
              "      <td>0</td>\n",
              "      <td>1</td>\n",
              "    </tr>\n",
              "  </tbody>\n",
              "</table>\n",
              "</div>\n",
              "      <button class=\"colab-df-convert\" onclick=\"convertToInteractive('df-51c15aa2-79db-4f65-82c3-2c526194c770')\"\n",
              "              title=\"Convert this dataframe to an interactive table.\"\n",
              "              style=\"display:none;\">\n",
              "        \n",
              "  <svg xmlns=\"http://www.w3.org/2000/svg\" height=\"24px\"viewBox=\"0 0 24 24\"\n",
              "       width=\"24px\">\n",
              "    <path d=\"M0 0h24v24H0V0z\" fill=\"none\"/>\n",
              "    <path d=\"M18.56 5.44l.94 2.06.94-2.06 2.06-.94-2.06-.94-.94-2.06-.94 2.06-2.06.94zm-11 1L8.5 8.5l.94-2.06 2.06-.94-2.06-.94L8.5 2.5l-.94 2.06-2.06.94zm10 10l.94 2.06.94-2.06 2.06-.94-2.06-.94-.94-2.06-.94 2.06-2.06.94z\"/><path d=\"M17.41 7.96l-1.37-1.37c-.4-.4-.92-.59-1.43-.59-.52 0-1.04.2-1.43.59L10.3 9.45l-7.72 7.72c-.78.78-.78 2.05 0 2.83L4 21.41c.39.39.9.59 1.41.59.51 0 1.02-.2 1.41-.59l7.78-7.78 2.81-2.81c.8-.78.8-2.07 0-2.86zM5.41 20L4 18.59l7.72-7.72 1.47 1.35L5.41 20z\"/>\n",
              "  </svg>\n",
              "      </button>\n",
              "      \n",
              "  <style>\n",
              "    .colab-df-container {\n",
              "      display:flex;\n",
              "      flex-wrap:wrap;\n",
              "      gap: 12px;\n",
              "    }\n",
              "\n",
              "    .colab-df-convert {\n",
              "      background-color: #E8F0FE;\n",
              "      border: none;\n",
              "      border-radius: 50%;\n",
              "      cursor: pointer;\n",
              "      display: none;\n",
              "      fill: #1967D2;\n",
              "      height: 32px;\n",
              "      padding: 0 0 0 0;\n",
              "      width: 32px;\n",
              "    }\n",
              "\n",
              "    .colab-df-convert:hover {\n",
              "      background-color: #E2EBFA;\n",
              "      box-shadow: 0px 1px 2px rgba(60, 64, 67, 0.3), 0px 1px 3px 1px rgba(60, 64, 67, 0.15);\n",
              "      fill: #174EA6;\n",
              "    }\n",
              "\n",
              "    [theme=dark] .colab-df-convert {\n",
              "      background-color: #3B4455;\n",
              "      fill: #D2E3FC;\n",
              "    }\n",
              "\n",
              "    [theme=dark] .colab-df-convert:hover {\n",
              "      background-color: #434B5C;\n",
              "      box-shadow: 0px 1px 3px 1px rgba(0, 0, 0, 0.15);\n",
              "      filter: drop-shadow(0px 1px 2px rgba(0, 0, 0, 0.3));\n",
              "      fill: #FFFFFF;\n",
              "    }\n",
              "  </style>\n",
              "\n",
              "      <script>\n",
              "        const buttonEl =\n",
              "          document.querySelector('#df-51c15aa2-79db-4f65-82c3-2c526194c770 button.colab-df-convert');\n",
              "        buttonEl.style.display =\n",
              "          google.colab.kernel.accessAllowed ? 'block' : 'none';\n",
              "\n",
              "        async function convertToInteractive(key) {\n",
              "          const element = document.querySelector('#df-51c15aa2-79db-4f65-82c3-2c526194c770');\n",
              "          const dataTable =\n",
              "            await google.colab.kernel.invokeFunction('convertToInteractive',\n",
              "                                                     [key], {});\n",
              "          if (!dataTable) return;\n",
              "\n",
              "          const docLinkHtml = 'Like what you see? Visit the ' +\n",
              "            '<a target=\"_blank\" href=https://colab.research.google.com/notebooks/data_table.ipynb>data table notebook</a>'\n",
              "            + ' to learn more about interactive tables.';\n",
              "          element.innerHTML = '';\n",
              "          dataTable['output_type'] = 'display_data';\n",
              "          await google.colab.output.renderOutput(dataTable, element);\n",
              "          const docLink = document.createElement('div');\n",
              "          docLink.innerHTML = docLinkHtml;\n",
              "          element.appendChild(docLink);\n",
              "        }\n",
              "      </script>\n",
              "    </div>\n",
              "  </div>\n",
              "  "
            ],
            "text/plain": [
              "   approveDate                 articleID  ...  y predicted\n",
              "0   1520043821  5a974697410cf7000162e8a4  ...  0         0\n",
              "1   1520043790  5a974697410cf7000162e8a4  ...  0         1\n",
              "2   1520043789  5a974697410cf7000162e8a4  ...  0         1\n",
              "3   1520043788  5a974697410cf7000162e8a4  ...  0         1\n",
              "4   1520043787  5a974697410cf7000162e8a4  ...  0         1\n",
              "\n",
              "[5 rows x 36 columns]"
            ]
          },
          "metadata": {},
          "execution_count": 68
        }
      ]
    },
    {
      "cell_type": "code",
      "source": [
        "comments['predicted'].value_counts()"
      ],
      "metadata": {
        "colab": {
          "base_uri": "https://localhost:8080/"
        },
        "id": "fHhWMSJqZTCG",
        "outputId": "981df237-e5a5-4956-9ab1-f20f7941bcd9"
      },
      "execution_count": null,
      "outputs": [
        {
          "output_type": "execute_result",
          "data": {
            "text/plain": [
              "0    1204281\n",
              "1     391479\n",
              "Name: predicted, dtype: int64"
            ]
          },
          "metadata": {},
          "execution_count": 69
        }
      ]
    },
    {
      "cell_type": "code",
      "source": [
        "comments['y'].value_counts()"
      ],
      "metadata": {
        "colab": {
          "base_uri": "https://localhost:8080/"
        },
        "id": "8I60I_9sZzKu",
        "outputId": "35c168eb-e4ff-44dc-abe0-29f48d0ce042"
      },
      "execution_count": null,
      "outputs": [
        {
          "output_type": "execute_result",
          "data": {
            "text/plain": [
              "0    1570612\n",
              "1      25148\n",
              "Name: y, dtype: int64"
            ]
          },
          "metadata": {},
          "execution_count": 70
        }
      ]
    },
    {
      "cell_type": "code",
      "metadata": {
        "id": "P1_wVPNkR76o"
      },
      "source": [
        "success_comments = comments[comments.predicted != 0]"
      ],
      "execution_count": null,
      "outputs": []
    },
    {
      "cell_type": "code",
      "source": [
        "success_comments.shape"
      ],
      "metadata": {
        "colab": {
          "base_uri": "https://localhost:8080/"
        },
        "id": "xXurKpoUZ6cv",
        "outputId": "9f4ecc7c-2e5b-47e6-ac25-68182351b33d"
      },
      "execution_count": null,
      "outputs": [
        {
          "output_type": "execute_result",
          "data": {
            "text/plain": [
              "(391479, 36)"
            ]
          },
          "metadata": {},
          "execution_count": 72
        }
      ]
    },
    {
      "cell_type": "code",
      "source": [
        "#Most controversial topics\n",
        "print(success_comments['newDesk'].nunique()) \n",
        "print(success_comments['newDesk'].unique())"
      ],
      "metadata": {
        "colab": {
          "base_uri": "https://localhost:8080/"
        },
        "id": "3W0Yk11Ye5GV",
        "outputId": "91221565-b760-421e-ecbf-6b70a2329012"
      },
      "execution_count": null,
      "outputs": [
        {
          "output_type": "stream",
          "name": "stdout",
          "text": [
            "42\n",
            "['Business' 'Editorial' 'Foreign' 'National' 'OpEd' 'Metro' 'Culture'\n",
            " 'Science' 'Styles' 'Washington' 'Travel' 'Express' 'Games' 'Sports'\n",
            " 'Investigative' 'SundayBusiness' 'Photo' 'Obits' 'NYTNow' 'Upshot'\n",
            " 'Insider' 'NewsDesk' 'Dining' 'Politics' 'Learning' 'Well' 'RealEstate'\n",
            " 'Magazine' 'Smarter Living' 'Metropolitan' 'Weekend' 'Arts&Leisure'\n",
            " 'EdLife' 'Unknown' 'SpecialSections' 'Video' 'Letters' 'Podcasts'\n",
            " 'BookReview' 'Climate' 'Society' 'TStyle']\n"
          ]
        }
      ]
    },
    {
      "cell_type": "code",
      "source": [
        "success_comments['newDesk'].value_counts().plot(kind='bar')"
      ],
      "metadata": {
        "colab": {
          "base_uri": "https://localhost:8080/",
          "height": 354
        },
        "id": "ZPrdkFniGejZ",
        "outputId": "1f84db71-73d3-45a3-fa70-10249d5ed827"
      },
      "execution_count": null,
      "outputs": [
        {
          "output_type": "execute_result",
          "data": {
            "text/plain": [
              "<matplotlib.axes._subplots.AxesSubplot at 0x7f2d7bc0eb90>"
            ]
          },
          "metadata": {},
          "execution_count": 74
        },
        {
          "output_type": "display_data",
          "data": {
            "image/png": "[encoded data removed]",
            "text/plain": [
              "<Figure size 432x288 with 1 Axes>"
            ]
          },
          "metadata": {
            "needs_background": "light"
          }
        }
      ]
    }
  ]
}